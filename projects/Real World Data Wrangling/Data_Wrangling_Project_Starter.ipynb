{
  "cells": [
    {
      "cell_type": "markdown",
      "metadata": {
        "id": "GNIwe5N7s0e_"
      },
      "source": [
        "# Real-world Data Wrangling"
      ]
    },
    {
      "cell_type": "markdown",
      "metadata": {
        "id": "_BG63Tpg8ep_"
      },
      "source": [
        "In this project, you will apply the skills you acquired in the course to gather and wrangle real-world data with two datasets of your choice.\n",
        "\n",
        "You will retrieve and extract the data, assess the data programmatically and visually, accross elements of data quality and structure, and implement a cleaning strategy for the data. You will then store the updated data into your selected database/data store, combine the data, and answer a research question with the datasets.\n",
        "\n",
        "Throughout the process, you are expected to:\n",
        "\n",
        "1. Explain your decisions towards methods used for gathering, assessing, cleaning, storing, and answering the research question\n",
        "2. Write code comments so your code is more readable\n",
        "\n",
        "Before you start, install the some of the required packages."
      ]
    },
    {
      "cell_type": "code",
      "execution_count": 2,
      "metadata": {
        "colab": {
          "base_uri": "https://localhost:8080/"
        },
        "id": "0K2_Tcj2UsQw",
        "outputId": "e1876027-67a8-4ea1-b828-341e6f0a03bb"
      },
      "outputs": [
        {
          "output_type": "stream",
          "name": "stdout",
          "text": [
            "Collecting kaggle==1.6.12\n",
            "  Downloading kaggle-1.6.12.tar.gz (79 kB)\n",
            "\u001b[?25l     \u001b[90m━━━━━━━━━━━━━━━━━━━━━━━━━━━━━━━━━━━━━━━━\u001b[0m \u001b[32m0.0/79.7 kB\u001b[0m \u001b[31m?\u001b[0m eta \u001b[36m-:--:--\u001b[0m\r\u001b[2K     \u001b[90m━━━━━━━━━━━━━━━━━━━━━━━━━━━━━━━━━━━━━━━━\u001b[0m \u001b[32m79.7/79.7 kB\u001b[0m \u001b[31m3.4 MB/s\u001b[0m eta \u001b[36m0:00:00\u001b[0m\n",
            "\u001b[?25h  Preparing metadata (setup.py) ... \u001b[?25l\u001b[?25hdone\n",
            "Requirement already satisfied: six>=1.10 in /usr/local/lib/python3.12/dist-packages (from kaggle==1.6.12) (1.17.0)\n",
            "Requirement already satisfied: certifi>=2023.7.22 in /usr/local/lib/python3.12/dist-packages (from kaggle==1.6.12) (2025.8.3)\n",
            "Requirement already satisfied: python-dateutil in /usr/local/lib/python3.12/dist-packages (from kaggle==1.6.12) (2.9.0.post0)\n",
            "Requirement already satisfied: requests in /usr/local/lib/python3.12/dist-packages (from kaggle==1.6.12) (2.32.4)\n",
            "Requirement already satisfied: tqdm in /usr/local/lib/python3.12/dist-packages (from kaggle==1.6.12) (4.67.1)\n",
            "Requirement already satisfied: python-slugify in /usr/local/lib/python3.12/dist-packages (from kaggle==1.6.12) (8.0.4)\n",
            "Requirement already satisfied: urllib3 in /usr/local/lib/python3.12/dist-packages (from kaggle==1.6.12) (2.5.0)\n",
            "Requirement already satisfied: bleach in /usr/local/lib/python3.12/dist-packages (from kaggle==1.6.12) (6.2.0)\n",
            "Requirement already satisfied: webencodings in /usr/local/lib/python3.12/dist-packages (from bleach->kaggle==1.6.12) (0.5.1)\n",
            "Requirement already satisfied: text-unidecode>=1.3 in /usr/local/lib/python3.12/dist-packages (from python-slugify->kaggle==1.6.12) (1.3)\n",
            "Requirement already satisfied: charset_normalizer<4,>=2 in /usr/local/lib/python3.12/dist-packages (from requests->kaggle==1.6.12) (3.4.3)\n",
            "Requirement already satisfied: idna<4,>=2.5 in /usr/local/lib/python3.12/dist-packages (from requests->kaggle==1.6.12) (3.10)\n",
            "Building wheels for collected packages: kaggle\n",
            "  Building wheel for kaggle (setup.py) ... \u001b[?25l\u001b[?25hdone\n",
            "  Created wheel for kaggle: filename=kaggle-1.6.12-py3-none-any.whl size=102970 sha256=4d032647e4646b56bc5711f1992b87ede758361082be301558b591fcb3eac0af\n",
            "  Stored in directory: /root/.cache/pip/wheels/2a/00/63/fa8dbcfb1458e6a65ac7a28d456deb9e0e033245b67f952681\n",
            "Successfully built kaggle\n",
            "Installing collected packages: kaggle\n",
            "  Attempting uninstall: kaggle\n",
            "    Found existing installation: kaggle 1.7.4.5\n",
            "    Uninstalling kaggle-1.7.4.5:\n",
            "      Successfully uninstalled kaggle-1.7.4.5\n",
            "Successfully installed kaggle-1.6.12\n"
          ]
        }
      ],
      "source": [
        "!python -m pip install kaggle==1.6.12"
      ]
    },
    {
      "cell_type": "code",
      "execution_count": 3,
      "metadata": {
        "colab": {
          "base_uri": "https://localhost:8080/"
        },
        "id": "ZH78PHvlUsQx",
        "outputId": "d307b2fc-0390-4733-ef49-317d1922982d"
      },
      "outputs": [
        {
          "output_type": "stream",
          "name": "stdout",
          "text": [
            "Requirement already satisfied: numpy in /usr/local/lib/python3.12/dist-packages (2.0.2)\n",
            "Collecting ucimlrepo\n",
            "  Downloading ucimlrepo-0.0.7-py3-none-any.whl.metadata (5.5 kB)\n",
            "Requirement already satisfied: pandas>=1.0.0 in /usr/local/lib/python3.12/dist-packages (from ucimlrepo) (2.2.2)\n",
            "Requirement already satisfied: certifi>=2020.12.5 in /usr/local/lib/python3.12/dist-packages (from ucimlrepo) (2025.8.3)\n",
            "Requirement already satisfied: python-dateutil>=2.8.2 in /usr/local/lib/python3.12/dist-packages (from pandas>=1.0.0->ucimlrepo) (2.9.0.post0)\n",
            "Requirement already satisfied: pytz>=2020.1 in /usr/local/lib/python3.12/dist-packages (from pandas>=1.0.0->ucimlrepo) (2025.2)\n",
            "Requirement already satisfied: tzdata>=2022.7 in /usr/local/lib/python3.12/dist-packages (from pandas>=1.0.0->ucimlrepo) (2025.2)\n",
            "Requirement already satisfied: six>=1.5 in /usr/local/lib/python3.12/dist-packages (from python-dateutil>=2.8.2->pandas>=1.0.0->ucimlrepo) (1.17.0)\n",
            "Downloading ucimlrepo-0.0.7-py3-none-any.whl (8.0 kB)\n",
            "Installing collected packages: ucimlrepo\n",
            "Successfully installed ucimlrepo-0.0.7\n"
          ]
        }
      ],
      "source": [
        "!pip install numpy ucimlrepo\n"
      ]
    },
    {
      "cell_type": "markdown",
      "metadata": {
        "id": "73ECN0Q2UsQx"
      },
      "source": [
        "**Note:** Restart the kernel to use updated package(s)."
      ]
    },
    {
      "cell_type": "code",
      "source": [
        "import os\n",
        "\n",
        "# Make sure the 'datasets' folder exists\n",
        "os.makedirs(\"datasets\", exist_ok=True)"
      ],
      "metadata": {
        "id": "LouMVJGnckUj"
      },
      "execution_count": 4,
      "outputs": []
    },
    {
      "cell_type": "markdown",
      "metadata": {
        "id": "lDYDkH-Zs7Nn"
      },
      "source": [
        "## 1. Gather data\n",
        "\n",
        "In this section, you will extract data using two different data gathering methods and combine the data. Use at least two different types of data-gathering methods."
      ]
    },
    {
      "cell_type": "markdown",
      "metadata": {
        "id": "LbN7z7rcuqpO"
      },
      "source": [
        "### **1.1.** Problem Statement\n",
        "This project aims to explore the relationship between air pollution and chronic diseases in the United States from 2019 to 2024. We will analyze how air quality indicators, specifically PM2.5 levels, correlate with the prevalence of chronic diseases reported in the U.S. Chronic Disease Indicators (CDI) dataset. By combining and cleaning these two datasets, we aim to identify patterns and insights that could help inform public health strategies and policy decisions related to environmental health."
      ]
    },
    {
      "cell_type": "markdown",
      "metadata": {
        "id": "gi6swhjSYqu2"
      },
      "source": [
        "Finding the right datasets can be time-consuming. Here we provide you with a list of websites to start with. But we encourage you to explore more websites and find the data that interests you.\n",
        "\n",
        "* Google Dataset Search https://datasetsearch.research.google.com/\n",
        "* The U.S. Government’s open data https://data.gov/\n",
        "* UCI Machine Learning Repository https://archive.ics.uci.edu/ml/index.php\n"
      ]
    },
    {
      "cell_type": "markdown",
      "metadata": {
        "id": "8AQfBAdUypMm"
      },
      "source": [
        "### **1.2.** Gather at least two datasets using two different data gathering methods\n",
        "\n",
        "List of data gathering methods:\n",
        "\n",
        "- Download data manually\n",
        "- Programmatically downloading files\n",
        "- Gather data by accessing APIs\n",
        "- Gather and extract data from HTML files using BeautifulSoup\n",
        "- Extract data from a SQL database\n",
        "\n",
        "Each dataset must have at least two variables, and have greater than 500 data samples within each dataset.\n",
        "\n",
        "For each dataset, briefly describe why you picked the dataset and the gathering method (2-3 full sentences), including the names and significance of the variables in the dataset. Show your work (e.g., if using an API to download the data, please include a snippet of your code).\n",
        "\n",
        "Load the dataset programmtically into this notebook."
      ]
    },
    {
      "cell_type": "markdown",
      "metadata": {
        "id": "7e6gS0wL1KTu"
      },
      "source": [
        "#### Dataset 1\n",
        "\n",
        "**Type:** CSV file\n",
        "\n",
        "**Method:** The data was gathered manually and uploaded to the project folder.\n",
        "\n",
        "**Dataset variables:**\n",
        "\n",
        "* `State`: The U.S. state where the data was collected.\n",
        "* `Indicator`: Type of chronic disease (e.g., diabetes, obesity).\n",
        "* `Data_Value`: The percentage of the population affected by the disease.\n"
      ]
    },
    {
      "cell_type": "code",
      "execution_count": 5,
      "metadata": {
        "id": "Su8E0uLuYkHU",
        "outputId": "2b604e47-0feb-483c-8f24-28f9b0b1c869",
        "colab": {
          "base_uri": "https://localhost:8080/"
        }
      },
      "outputs": [
        {
          "output_type": "stream",
          "name": "stdout",
          "text": [
            "   YearStart  YearEnd LocationAbbr          LocationDesc DataSource   Topic  \\\n",
            "0       2014     2014           AR              Arkansas  SEDD; SID  Asthma   \n",
            "1       2018     2018           CO              Colorado  SEDD; SID  Asthma   \n",
            "2       2018     2018           DC  District of Columbia  SEDD; SID  Asthma   \n",
            "3       2017     2017           GA               Georgia  SEDD; SID  Asthma   \n",
            "4       2010     2010           MI              Michigan  SEDD; SID  Asthma   \n",
            "\n",
            "                      Question  Response DataValueUnit DataValueType  ...  \\\n",
            "0  Hospitalizations for asthma       NaN           NaN        Number  ...   \n",
            "1  Hospitalizations for asthma       NaN           NaN        Number  ...   \n",
            "2  Hospitalizations for asthma       NaN           NaN        Number  ...   \n",
            "3  Hospitalizations for asthma       NaN           NaN        Number  ...   \n",
            "4  Hospitalizations for asthma       NaN           NaN        Number  ...   \n",
            "\n",
            "  LocationID  TopicID QuestionID DataValueTypeID  StratificationCategoryID1  \\\n",
            "0        5.0      AST     AST3_1            NMBR                     GENDER   \n",
            "1        8.0      AST     AST3_1            NMBR                    OVERALL   \n",
            "2       11.0      AST     AST3_1            NMBR                    OVERALL   \n",
            "3       13.0      AST     AST3_1            NMBR                     GENDER   \n",
            "4       26.0      AST     AST3_1            NMBR                       RACE   \n",
            "\n",
            "   StratificationID1 StratificationCategoryID2 StratificationID2  \\\n",
            "0               GENM                       NaN               NaN   \n",
            "1                OVR                       NaN               NaN   \n",
            "2                OVR                       NaN               NaN   \n",
            "3               GENF                       NaN               NaN   \n",
            "4                HIS                       NaN               NaN   \n",
            "\n",
            "   StratificationCategoryID3  StratificationID3  \n",
            "0                        NaN                NaN  \n",
            "1                        NaN                NaN  \n",
            "2                        NaN                NaN  \n",
            "3                        NaN                NaN  \n",
            "4                        NaN                NaN  \n",
            "\n",
            "[5 rows x 34 columns]\n",
            "<class 'pandas.core.frame.DataFrame'>\n",
            "RangeIndex: 50420 entries, 0 to 50419\n",
            "Data columns (total 34 columns):\n",
            " #   Column                     Non-Null Count  Dtype  \n",
            "---  ------                     --------------  -----  \n",
            " 0   YearStart                  50420 non-null  int64  \n",
            " 1   YearEnd                    50420 non-null  int64  \n",
            " 2   LocationAbbr               50420 non-null  object \n",
            " 3   LocationDesc               50420 non-null  object \n",
            " 4   DataSource                 50420 non-null  object \n",
            " 5   Topic                      50420 non-null  object \n",
            " 6   Question                   50420 non-null  object \n",
            " 7   Response                   0 non-null      float64\n",
            " 8   DataValueUnit              36773 non-null  object \n",
            " 9   DataValueType              50420 non-null  object \n",
            " 10  DataValue                  26423 non-null  object \n",
            " 11  DataValueAlt               26120 non-null  float64\n",
            " 12  DataValueFootnoteSymbol    25054 non-null  object \n",
            " 13  DatavalueFootnote          25054 non-null  object \n",
            " 14  LowConfidenceLimit         17867 non-null  float64\n",
            " 15  HighConfidenceLimit        17867 non-null  float64\n",
            " 16  StratificationCategory1    50419 non-null  object \n",
            " 17  Stratification1            50419 non-null  object \n",
            " 18  StratificationCategory2    0 non-null      float64\n",
            " 19  Stratification2            0 non-null      float64\n",
            " 20  StratificationCategory3    0 non-null      float64\n",
            " 21  Stratification3            0 non-null      float64\n",
            " 22  GeoLocation                50173 non-null  object \n",
            " 23  ResponseID                 0 non-null      float64\n",
            " 24  LocationID                 50419 non-null  float64\n",
            " 25  TopicID                    50419 non-null  object \n",
            " 26  QuestionID                 50419 non-null  object \n",
            " 27  DataValueTypeID            50419 non-null  object \n",
            " 28  StratificationCategoryID1  50419 non-null  object \n",
            " 29  StratificationID1          50419 non-null  object \n",
            " 30  StratificationCategoryID2  0 non-null      float64\n",
            " 31  StratificationID2          0 non-null      float64\n",
            " 32  StratificationCategoryID3  0 non-null      float64\n",
            " 33  StratificationID3          0 non-null      float64\n",
            "dtypes: float64(14), int64(2), object(18)\n",
            "memory usage: 13.1+ MB\n"
          ]
        }
      ],
      "source": [
        "import pandas as pd\n",
        "\n",
        "# Load Dataset 1: US Chronic Disease Indicators (CDI) - 2023\n",
        "cdi_df = pd.read_csv(\n",
        "    \"datasets/U.S._Chronic_Disease_Indicators__CDI.csv\",\n",
        "    low_memory=False\n",
        ")\n",
        "\n",
        "# Show the first 5 rows\n",
        "print(cdi_df.head())\n",
        "\n",
        "# Basic info\n",
        "cdi_df.info()\n"
      ]
    },
    {
      "cell_type": "markdown",
      "metadata": {
        "id": "hoUjq1tPzz7P"
      },
      "source": [
        "#### Dataset 2\n",
        "\n",
        "**Type:** CSV file\n",
        "\n",
        "**Method:** The data was gathered programmatically by downloading daily PM2.5 measurements from the U.S. EPA Air Quality System (AQS) for the years 2010–2024, then combined into a single dataset.\n",
        "\n",
        "**Dataset variables:**\n",
        "\n",
        "* `State Name`: The U.S. state where air quality data was measured.\n",
        "* `County Name`: The county where the measurement site is located.\n",
        "* `City Name`: The city where the measurement site is located.\n",
        "* `Date Local`: The day of measurement.\n",
        "* `AQI`: The Air Quality Index value for that site on that day (based on PM2.5 concentration).\n",
        "* `Parameter Name`: The pollutant measured (PM2.5 for this dataset).\n",
        "* `Latitude` / `Longitude`: Geographic coordinates of the measurement site.\n",
        "* `Observation Count` / `Arithmetic Mean` / `1st Max Value`: Statistical measures of the pollutant concentration for that day.\n",
        "* `Year`: The measurement year (2010–2024).\n"
      ]
    },
    {
      "cell_type": "code",
      "execution_count": 6,
      "metadata": {
        "id": "6zT0QxRyYmm7",
        "scrolled": false,
        "outputId": "97713cd7-4fbc-4adc-89f5-ad912644a372",
        "colab": {
          "base_uri": "https://localhost:8080/"
        }
      },
      "outputs": [
        {
          "output_type": "stream",
          "name": "stderr",
          "text": [
            "Downloading EPA data: 100%|███████████████████████████████████████████| 6/6 [01:12<00:00, 12.11s/it]\n"
          ]
        },
        {
          "output_type": "stream",
          "name": "stdout",
          "text": [
            "✅ Saved combined dataset: datasets/daily_88101_2019_2024.csv\n",
            "Shape: (4589067, 30)\n"
          ]
        }
      ],
      "source": [
        "import requests\n",
        "import pandas as pd\n",
        "import os\n",
        "from tqdm import tqdm  # for progress bar\n",
        "\n",
        "# Make sure the 'datasets' folder exists\n",
        "os.makedirs(\"datasets\", exist_ok=True)\n",
        "\n",
        "base_url = \"https://aqs.epa.gov/aqsweb/airdata/daily_88101_{}.zip\"\n",
        "years = range(2019, 2025)  # from 2019 to 2024\n",
        "\n",
        "all_data_df = []\n",
        "\n",
        "# Wrap the years loop with tqdm for progress visualization\n",
        "for year in tqdm(years, desc=\"Downloading EPA data\", ncols=100):\n",
        "    try:\n",
        "        url = base_url.format(year)\n",
        "\n",
        "        # Download and read CSV directly from URL\n",
        "        df = pd.read_csv(url, low_memory=False)\n",
        "        df[\"Year\"] = year  # Add a column for the year\n",
        "        all_data_df.append(df)\n",
        "    except Exception as e:\n",
        "        print(f\"❌ Failed to download data for {year}: {e}\")\n",
        "\n",
        "# Combine all years into a single DataFrame\n",
        "epa_all_years_df = pd.concat(all_data_df, ignore_index=True)\n",
        "\n",
        "# Save the combined dataset\n",
        "epa_all_years_df.to_csv(\"datasets/daily_88101_2019_2024.csv\", index=False)\n",
        "print(\"✅ Saved combined dataset: datasets/daily_88101_2019_2024.csv\")\n",
        "print(\"Shape:\", epa_all_years_df.shape)\n"
      ]
    },
    {
      "cell_type": "code",
      "source": [
        "import pandas as pd\n",
        "\n",
        "# Load Dataset 2\n",
        "epa_df = pd.read_csv(\n",
        "    \"datasets/daily_88101_2019_2024.csv\",\n",
        "    low_memory=False\n",
        ")\n",
        "\n",
        "# Show the first 5 rows\n",
        "print(epa_df.head())\n",
        "\n",
        "# Basic info\n",
        "epa_df.info()\n"
      ],
      "metadata": {
        "colab": {
          "base_uri": "https://localhost:8080/"
        },
        "id": "3nSGRJGsg-KU",
        "outputId": "08cd768e-d66c-49a2-851f-3d4908121205"
      },
      "execution_count": 7,
      "outputs": [
        {
          "output_type": "stream",
          "name": "stdout",
          "text": [
            "   State Code  County Code  Site Num  Parameter Code  POC   Latitude  \\\n",
            "0           1            3        10           88101    1  30.497478   \n",
            "1           1            3        10           88101    1  30.497478   \n",
            "2           1            3        10           88101    1  30.497478   \n",
            "3           1            3        10           88101    1  30.497478   \n",
            "4           1            3        10           88101    1  30.497478   \n",
            "\n",
            "   Longitude  Datum            Parameter Name Sample Duration  ...  \\\n",
            "0 -87.880258  NAD83  PM2.5 - Local Conditions         24 HOUR  ...   \n",
            "1 -87.880258  NAD83  PM2.5 - Local Conditions         24 HOUR  ...   \n",
            "2 -87.880258  NAD83  PM2.5 - Local Conditions         24 HOUR  ...   \n",
            "3 -87.880258  NAD83  PM2.5 - Local Conditions         24 HOUR  ...   \n",
            "4 -87.880258  NAD83  PM2.5 - Local Conditions         24 HOUR  ...   \n",
            "\n",
            "  Method Code                                        Method Name  \\\n",
            "0         145  R & P Model 2025 PM-2.5 Sequential Air Sampler...   \n",
            "1         145  R & P Model 2025 PM-2.5 Sequential Air Sampler...   \n",
            "2         145  R & P Model 2025 PM-2.5 Sequential Air Sampler...   \n",
            "3         145  R & P Model 2025 PM-2.5 Sequential Air Sampler...   \n",
            "4         145  R & P Model 2025 PM-2.5 Sequential Air Sampler...   \n",
            "\n",
            "     Local Site Name                                            Address  \\\n",
            "0  FAIRHOPE, Alabama  FAIRHOPE HIGH SCHOOL, 1 PIRATE DRIVE, FAIRHOPE...   \n",
            "1  FAIRHOPE, Alabama  FAIRHOPE HIGH SCHOOL, 1 PIRATE DRIVE, FAIRHOPE...   \n",
            "2  FAIRHOPE, Alabama  FAIRHOPE HIGH SCHOOL, 1 PIRATE DRIVE, FAIRHOPE...   \n",
            "3  FAIRHOPE, Alabama  FAIRHOPE HIGH SCHOOL, 1 PIRATE DRIVE, FAIRHOPE...   \n",
            "4  FAIRHOPE, Alabama  FAIRHOPE HIGH SCHOOL, 1 PIRATE DRIVE, FAIRHOPE...   \n",
            "\n",
            "   State Name  County Name  City Name                  CBSA Name  \\\n",
            "0     Alabama      Baldwin   Fairhope  Daphne-Fairhope-Foley, AL   \n",
            "1     Alabama      Baldwin   Fairhope  Daphne-Fairhope-Foley, AL   \n",
            "2     Alabama      Baldwin   Fairhope  Daphne-Fairhope-Foley, AL   \n",
            "3     Alabama      Baldwin   Fairhope  Daphne-Fairhope-Foley, AL   \n",
            "4     Alabama      Baldwin   Fairhope  Daphne-Fairhope-Foley, AL   \n",
            "\n",
            "   Date of Last Change  Year  \n",
            "0           2024-09-05  2019  \n",
            "1           2024-09-05  2019  \n",
            "2           2024-09-05  2019  \n",
            "3           2024-09-05  2019  \n",
            "4           2024-09-05  2019  \n",
            "\n",
            "[5 rows x 30 columns]\n",
            "<class 'pandas.core.frame.DataFrame'>\n",
            "RangeIndex: 4589067 entries, 0 to 4589066\n",
            "Data columns (total 30 columns):\n",
            " #   Column               Dtype  \n",
            "---  ------               -----  \n",
            " 0   State Code           int64  \n",
            " 1   County Code          int64  \n",
            " 2   Site Num             int64  \n",
            " 3   Parameter Code       int64  \n",
            " 4   POC                  int64  \n",
            " 5   Latitude             float64\n",
            " 6   Longitude            float64\n",
            " 7   Datum                object \n",
            " 8   Parameter Name       object \n",
            " 9   Sample Duration      object \n",
            " 10  Pollutant Standard   object \n",
            " 11  Date Local           object \n",
            " 12  Units of Measure     object \n",
            " 13  Event Type           object \n",
            " 14  Observation Count    int64  \n",
            " 15  Observation Percent  float64\n",
            " 16  Arithmetic Mean      float64\n",
            " 17  1st Max Value        float64\n",
            " 18  1st Max Hour         int64  \n",
            " 19  AQI                  float64\n",
            " 20  Method Code          int64  \n",
            " 21  Method Name          object \n",
            " 22  Local Site Name      object \n",
            " 23  Address              object \n",
            " 24  State Name           object \n",
            " 25  County Name          object \n",
            " 26  City Name            object \n",
            " 27  CBSA Name            object \n",
            " 28  Date of Last Change  object \n",
            " 29  Year                 int64  \n",
            "dtypes: float64(6), int64(9), object(15)\n",
            "memory usage: 1.0+ GB\n"
          ]
        }
      ]
    },
    {
      "cell_type": "markdown",
      "metadata": {
        "id": "QTcOXu0nUsQz"
      },
      "source": [
        "Optional data storing step: You may save your raw dataset files to the local data store before moving to the next step."
      ]
    },
    {
      "cell_type": "code",
      "execution_count": 8,
      "metadata": {
        "id": "wB3xp6SrUsQz",
        "colab": {
          "base_uri": "https://localhost:8080/"
        },
        "outputId": "9047442b-41b8-43a1-e529-bf3cc284a19f"
      },
      "outputs": [
        {
          "output_type": "stream",
          "name": "stdout",
          "text": [
            "✅ Copied datasets/U.S._Chronic_Disease_Indicators__CDI.csv -> data_store/U.S._Chronic_Disease_Indicators__CDI.csv\n",
            "✅ Copied datasets/daily_88101_2019_2024.csv -> data_store/daily_88101_2019_2024.csv\n",
            "Raw datasets have been stored in the 'data_store' folder.\n"
          ]
        }
      ],
      "source": [
        "import os\n",
        "import shutil\n",
        "\n",
        "# Create a folder to store raw data if it doesn't exist\n",
        "data_store_dir = \"data_store\"\n",
        "os.makedirs(data_store_dir, exist_ok=True)\n",
        "\n",
        "# List of files to copy: (source path, destination filename)\n",
        "files_to_store = [\n",
        "    (\"datasets/U.S._Chronic_Disease_Indicators__CDI.csv\", \"U.S._Chronic_Disease_Indicators__CDI.csv\"),\n",
        "    (\"datasets/daily_88101_2019_2024.csv\", \"daily_88101_2019_2024.csv\")\n",
        "]\n",
        "\n",
        "# Copy files to the data_store folder\n",
        "for src, dst in files_to_store:\n",
        "    if os.path.exists(src):\n",
        "        shutil.copy(src, os.path.join(data_store_dir, dst))\n",
        "        print(f\"✅ Copied {src} -> {data_store_dir}/{dst}\")\n",
        "    else:\n",
        "        print(f\"❌ File not found: {src}\")\n",
        "\n",
        "print(\"Raw datasets have been stored in the 'data_store' folder.\")\n"
      ]
    },
    {
      "cell_type": "markdown",
      "metadata": {
        "id": "vSzbydupUsQz"
      },
      "source": [
        "#### Data Assessment: Missing Values in `DataValue` (Dataset 1)\n",
        "\n",
        "After loading the **US Chronic Disease Indicators (CDI)** dataset, we first check for missing values in critical columns.  \n",
        "The `DataValue` column is a key variable representing the percentage of the population affected by chronic diseases.\n",
        "\n",
        "This section calculates:\n",
        "\n",
        "- The total number of missing values in `DataValue`.\n",
        "- The percentage of missing values relative to the total number of rows.\n",
        "\n",
        "Understanding the extent of missing data is essential before proceeding to cleaning and analysis.\n"
      ]
    },
    {
      "cell_type": "code",
      "execution_count": 9,
      "metadata": {
        "id": "OEqCkekyUsQz",
        "colab": {
          "base_uri": "https://localhost:8080/"
        },
        "outputId": "9ff6d25d-60cf-46a1-e628-e63f5a6584dd"
      },
      "outputs": [
        {
          "output_type": "stream",
          "name": "stdout",
          "text": [
            "['YearStart', 'YearEnd', 'LocationAbbr', 'LocationDesc', 'DataSource', 'Topic', 'Question', 'Response', 'DataValueUnit', 'DataValueType', 'DataValue', 'DataValueAlt', 'DataValueFootnoteSymbol', 'DatavalueFootnote', 'LowConfidenceLimit', 'HighConfidenceLimit', 'StratificationCategory1', 'Stratification1', 'StratificationCategory2', 'Stratification2', 'StratificationCategory3', 'Stratification3', 'GeoLocation', 'ResponseID', 'LocationID', 'TopicID', 'QuestionID', 'DataValueTypeID', 'StratificationCategoryID1', 'StratificationID1', 'StratificationCategoryID2', 'StratificationID2', 'StratificationCategoryID3', 'StratificationID3']\n"
          ]
        }
      ],
      "source": [
        "# Display all column names as a list\n",
        "print(list(cdi_df.columns))\n"
      ]
    },
    {
      "cell_type": "code",
      "execution_count": 10,
      "metadata": {
        "id": "8VWSFBikUsQz",
        "colab": {
          "base_uri": "https://localhost:8080/"
        },
        "outputId": "9ab87f7e-21dd-43b8-f0aa-00a53666f4a2"
      },
      "outputs": [
        {
          "output_type": "stream",
          "name": "stdout",
          "text": [
            "Missing values in 'DataValue': 23997 out of 50420 rows\n",
            "Percentage of missing 'DataValue': 47.59%\n"
          ]
        }
      ],
      "source": [
        "# Total number of rows in the dataset\n",
        "total_rows = len(cdi_df)\n",
        "\n",
        "# Count missing values in DataValue\n",
        "missing_values = cdi_df['DataValue'].isnull().sum()\n",
        "\n",
        "# Calculate the percentage of missing values\n",
        "missing_percent = (missing_values / total_rows) * 100\n",
        "\n",
        "# Display the results\n",
        "print(f\"Missing values in 'DataValue': {missing_values} out of {total_rows} rows\")\n",
        "print(f\"Percentage of missing 'DataValue': {missing_percent:.2f}%\")\n"
      ]
    },
    {
      "cell_type": "markdown",
      "metadata": {
        "id": "TGp2kAmRUsQz"
      },
      "source": [
        "#### **Data Assessment: Missing Values in PM2.5 (Dataset 2)**\n",
        "\n",
        "For the **U.S. Air Quality** dataset, we assess missing values in the `AQI` column specifically for measurements where the pollutant is **PM2.5**.  \n",
        "PM2.5 represents fine particulate matter in the air — a key indicator of air pollution that has significant health impacts.\n",
        "\n",
        "Checking for missing or incomplete `AQI` values for PM2.5 helps identify potential gaps in air quality monitoring across different states and cities.\n"
      ]
    },
    {
      "cell_type": "code",
      "execution_count": 11,
      "metadata": {
        "id": "M6hvRS_3UsQ0",
        "colab": {
          "base_uri": "https://localhost:8080/"
        },
        "outputId": "67e339a0-73bd-47a4-a026-7d6864390d40"
      },
      "outputs": [
        {
          "output_type": "stream",
          "name": "stdout",
          "text": [
            "['State Code', 'County Code', 'Site Num', 'Parameter Code', 'POC', 'Latitude', 'Longitude', 'Datum', 'Parameter Name', 'Sample Duration', 'Pollutant Standard', 'Date Local', 'Units of Measure', 'Event Type', 'Observation Count', 'Observation Percent', 'Arithmetic Mean', '1st Max Value', '1st Max Hour', 'AQI', 'Method Code', 'Method Name', 'Local Site Name', 'Address', 'State Name', 'County Name', 'City Name', 'CBSA Name', 'Date of Last Change', 'Year']\n"
          ]
        }
      ],
      "source": [
        "# Display all column names as a list\n",
        "print(list(epa_df.columns))"
      ]
    },
    {
      "cell_type": "code",
      "execution_count": 12,
      "metadata": {
        "id": "dJFIsJj_UsQ0",
        "colab": {
          "base_uri": "https://localhost:8080/"
        },
        "outputId": "68732353-6ce7-4b92-daca-f5eede9a0210"
      },
      "outputs": [
        {
          "output_type": "stream",
          "name": "stdout",
          "text": [
            "Missing values in 'AQI' for PM2.5: 2103765 out of 4589067 rows\n",
            "Percentage of missing 'AQI' for PM2.5: 45.84%\n"
          ]
        }
      ],
      "source": [
        "# Filter dataset for PM2.5 measurements\n",
        "pm25_df = epa_df[epa_df['Parameter Name'].str.contains('PM2.5', case=False, na=False)]\n",
        "\n",
        "# Total number of PM2.5 rows\n",
        "total_pm25_rows = len(pm25_df)\n",
        "\n",
        "# Count missing values in AQI\n",
        "missing_aqi = pm25_df['AQI'].isnull().sum()\n",
        "\n",
        "# Calculate percentage of missing values\n",
        "missing_aqi_percent = (missing_aqi / total_pm25_rows) * 100\n",
        "\n",
        "# Display the results\n",
        "print(f\"Missing values in 'AQI' for PM2.5: {missing_aqi} out of {total_pm25_rows} rows\")\n",
        "print(f\"Percentage of missing 'AQI' for PM2.5: {missing_aqi_percent:.2f}%\")\n"
      ]
    },
    {
      "cell_type": "code",
      "execution_count": null,
      "metadata": {
        "id": "sIoEe-ztUsQ0"
      },
      "outputs": [],
      "source": []
    },
    {
      "cell_type": "markdown",
      "metadata": {
        "id": "QwSWIVmotLgV"
      },
      "source": [
        "## 2. Assess data\n",
        "\n",
        "Assess the data according to data quality and tidiness metrics using the report below.\n",
        "\n",
        "List **two** data quality issues and **two** tidiness issues. Assess each data issue visually **and** programmatically, then briefly describe the issue you find.  **Make sure you include justifications for the methods you use for the assessment.**"
      ]
    },
    {
      "cell_type": "markdown",
      "metadata": {
        "id": "adaK2iPNzVu4"
      },
      "source": [
        "### Quality Issue 1:"
      ]
    },
    {
      "cell_type": "code",
      "execution_count": 13,
      "metadata": {
        "id": "SpW59kh-zl8d",
        "outputId": "726cbb1c-79b3-41de-84f5-d2f406bc6935",
        "colab": {
          "base_uri": "https://localhost:8080/"
        }
      },
      "outputs": [
        {
          "output_type": "stream",
          "name": "stdout",
          "text": [
            "   YearStart  YearEnd LocationAbbr          LocationDesc DataSource   Topic  \\\n",
            "0       2014     2014           AR              Arkansas  SEDD; SID  Asthma   \n",
            "1       2018     2018           CO              Colorado  SEDD; SID  Asthma   \n",
            "2       2018     2018           DC  District of Columbia  SEDD; SID  Asthma   \n",
            "3       2017     2017           GA               Georgia  SEDD; SID  Asthma   \n",
            "4       2010     2010           MI              Michigan  SEDD; SID  Asthma   \n",
            "\n",
            "                      Question  Response DataValueUnit DataValueType  ...  \\\n",
            "0  Hospitalizations for asthma       NaN           NaN        Number  ...   \n",
            "1  Hospitalizations for asthma       NaN           NaN        Number  ...   \n",
            "2  Hospitalizations for asthma       NaN           NaN        Number  ...   \n",
            "3  Hospitalizations for asthma       NaN           NaN        Number  ...   \n",
            "4  Hospitalizations for asthma       NaN           NaN        Number  ...   \n",
            "\n",
            "  LocationID  TopicID QuestionID DataValueTypeID  StratificationCategoryID1  \\\n",
            "0        5.0      AST     AST3_1            NMBR                     GENDER   \n",
            "1        8.0      AST     AST3_1            NMBR                    OVERALL   \n",
            "2       11.0      AST     AST3_1            NMBR                    OVERALL   \n",
            "3       13.0      AST     AST3_1            NMBR                     GENDER   \n",
            "4       26.0      AST     AST3_1            NMBR                       RACE   \n",
            "\n",
            "   StratificationID1 StratificationCategoryID2 StratificationID2  \\\n",
            "0               GENM                       NaN               NaN   \n",
            "1                OVR                       NaN               NaN   \n",
            "2                OVR                       NaN               NaN   \n",
            "3               GENF                       NaN               NaN   \n",
            "4                HIS                       NaN               NaN   \n",
            "\n",
            "   StratificationCategoryID3  StratificationID3  \n",
            "0                        NaN                NaN  \n",
            "1                        NaN                NaN  \n",
            "2                        NaN                NaN  \n",
            "3                        NaN                NaN  \n",
            "4                        NaN                NaN  \n",
            "\n",
            "[5 rows x 34 columns]\n",
            "       YearStart  YearEnd LocationAbbr  LocationDesc DataSource    Topic  \\\n",
            "15128       2015     2015           HI        Hawaii       NVSS  Alcohol   \n",
            "44704       2010     2010           MD      Maryland  SEDD; SID   Asthma   \n",
            "16685       2014     2014           AL       Alabama  SEDD; SID   Asthma   \n",
            "28816       2011     2011           VT       Vermont       NVSS  Alcohol   \n",
            "13729       2010     2010           NV        Nevada       NVSS  Alcohol   \n",
            "12268       2019     2019           RI  Rhode Island      YRBSS  Alcohol   \n",
            "35197       2012     2012           FL       Florida       NVSS   Asthma   \n",
            "1608        2020     2020           NY      New York       NVSS  Alcohol   \n",
            "33387       2016     2016           RI  Rhode Island  SEDD; SID   Asthma   \n",
            "42232       2010     2010           GA       Georgia       NVSS   Asthma   \n",
            "\n",
            "                              Question  Response        DataValueUnit  \\\n",
            "15128  Chronic liver disease mortality       NaN    cases per 100,000   \n",
            "44704      Hospitalizations for asthma       NaN     cases per 10,000   \n",
            "16685      Hospitalizations for asthma       NaN     cases per 10,000   \n",
            "28816  Chronic liver disease mortality       NaN    cases per 100,000   \n",
            "13729  Chronic liver disease mortality       NaN                  NaN   \n",
            "12268          Alcohol use among youth       NaN                    %   \n",
            "35197            Asthma mortality rate       NaN                  NaN   \n",
            "1608   Chronic liver disease mortality       NaN    cases per 100,000   \n",
            "33387      Hospitalizations for asthma       NaN     cases per 10,000   \n",
            "42232            Asthma mortality rate       NaN  cases per 1,000,000   \n",
            "\n",
            "           DataValueType  ... LocationID  TopicID QuestionID DataValueTypeID  \\\n",
            "15128  Age-adjusted Rate  ...       15.0      ALC     ALC6_0      AGEADJRATE   \n",
            "44704         Crude Rate  ...       24.0      AST     AST3_1         CRDRATE   \n",
            "16685  Age-adjusted Rate  ...        1.0      AST     AST3_1      AGEADJRATE   \n",
            "28816         Crude Rate  ...       50.0      ALC     ALC6_0         CRDRATE   \n",
            "13729             Number  ...       32.0      ALC     ALC6_0            NMBR   \n",
            "12268   Crude Prevalence  ...       44.0      ALC     ALC1_1         CRDPREV   \n",
            "35197             Number  ...       12.0      AST     AST4_1            NMBR   \n",
            "1608          Crude Rate  ...       36.0      ALC     ALC6_0         CRDRATE   \n",
            "33387         Crude Rate  ...       44.0      AST     AST3_1         CRDRATE   \n",
            "42232  Age-adjusted Rate  ...       13.0      AST     AST4_1      AGEADJRATE   \n",
            "\n",
            "       StratificationCategoryID1  StratificationID1 StratificationCategoryID2  \\\n",
            "15128                       RACE                HIS                       NaN   \n",
            "44704                     GENDER               GENM                       NaN   \n",
            "16685                    OVERALL                OVR                       NaN   \n",
            "28816                     GENDER               GENM                       NaN   \n",
            "13729                       RACE                BLK                       NaN   \n",
            "12268                       RACE                BLK                       NaN   \n",
            "35197                     GENDER               GENF                       NaN   \n",
            "1608                     OVERALL                OVR                       NaN   \n",
            "33387                       RACE               AIAN                       NaN   \n",
            "42232                       RACE               AIAN                       NaN   \n",
            "\n",
            "      StratificationID2  StratificationCategoryID3  StratificationID3  \n",
            "15128               NaN                        NaN                NaN  \n",
            "44704               NaN                        NaN                NaN  \n",
            "16685               NaN                        NaN                NaN  \n",
            "28816               NaN                        NaN                NaN  \n",
            "13729               NaN                        NaN                NaN  \n",
            "12268               NaN                        NaN                NaN  \n",
            "35197               NaN                        NaN                NaN  \n",
            "1608                NaN                        NaN                NaN  \n",
            "33387               NaN                        NaN                NaN  \n",
            "42232               NaN                        NaN                NaN  \n",
            "\n",
            "[10 rows x 34 columns]\n"
          ]
        }
      ],
      "source": [
        "# Inspecting the dataframe visually\n",
        "# Visual inspection of the first few rows\n",
        "print(cdi_df.head())\n",
        "\n",
        "# Check random rows to spot anomalies\n",
        "print(cdi_df.sample(10))\n"
      ]
    },
    {
      "cell_type": "code",
      "execution_count": 14,
      "metadata": {
        "id": "-qfcocStzsKg",
        "outputId": "c231afe7-bd4c-42af-eac8-2382b9155a36",
        "colab": {
          "base_uri": "https://localhost:8080/"
        }
      },
      "outputs": [
        {
          "output_type": "stream",
          "name": "stdout",
          "text": [
            "YearStart                        0\n",
            "YearEnd                          0\n",
            "LocationAbbr                     0\n",
            "LocationDesc                     0\n",
            "DataSource                       0\n",
            "Topic                            0\n",
            "Question                         0\n",
            "Response                     50420\n",
            "DataValueUnit                13647\n",
            "DataValueType                    0\n",
            "DataValue                    23997\n",
            "DataValueAlt                 24300\n",
            "DataValueFootnoteSymbol      25366\n",
            "DatavalueFootnote            25366\n",
            "LowConfidenceLimit           32553\n",
            "HighConfidenceLimit          32553\n",
            "StratificationCategory1          1\n",
            "Stratification1                  1\n",
            "StratificationCategory2      50420\n",
            "Stratification2              50420\n",
            "StratificationCategory3      50420\n",
            "Stratification3              50420\n",
            "GeoLocation                    247\n",
            "ResponseID                   50420\n",
            "LocationID                       1\n",
            "TopicID                          1\n",
            "QuestionID                       1\n",
            "DataValueTypeID                  1\n",
            "StratificationCategoryID1        1\n",
            "StratificationID1                1\n",
            "StratificationCategoryID2    50420\n",
            "StratificationID2            50420\n",
            "StratificationCategoryID3    50420\n",
            "StratificationID3            50420\n",
            "dtype: int64\n",
            "<class 'pandas.core.frame.DataFrame'>\n",
            "RangeIndex: 50420 entries, 0 to 50419\n",
            "Data columns (total 34 columns):\n",
            " #   Column                     Non-Null Count  Dtype  \n",
            "---  ------                     --------------  -----  \n",
            " 0   YearStart                  50420 non-null  int64  \n",
            " 1   YearEnd                    50420 non-null  int64  \n",
            " 2   LocationAbbr               50420 non-null  object \n",
            " 3   LocationDesc               50420 non-null  object \n",
            " 4   DataSource                 50420 non-null  object \n",
            " 5   Topic                      50420 non-null  object \n",
            " 6   Question                   50420 non-null  object \n",
            " 7   Response                   0 non-null      float64\n",
            " 8   DataValueUnit              36773 non-null  object \n",
            " 9   DataValueType              50420 non-null  object \n",
            " 10  DataValue                  26423 non-null  object \n",
            " 11  DataValueAlt               26120 non-null  float64\n",
            " 12  DataValueFootnoteSymbol    25054 non-null  object \n",
            " 13  DatavalueFootnote          25054 non-null  object \n",
            " 14  LowConfidenceLimit         17867 non-null  float64\n",
            " 15  HighConfidenceLimit        17867 non-null  float64\n",
            " 16  StratificationCategory1    50419 non-null  object \n",
            " 17  Stratification1            50419 non-null  object \n",
            " 18  StratificationCategory2    0 non-null      float64\n",
            " 19  Stratification2            0 non-null      float64\n",
            " 20  StratificationCategory3    0 non-null      float64\n",
            " 21  Stratification3            0 non-null      float64\n",
            " 22  GeoLocation                50173 non-null  object \n",
            " 23  ResponseID                 0 non-null      float64\n",
            " 24  LocationID                 50419 non-null  float64\n",
            " 25  TopicID                    50419 non-null  object \n",
            " 26  QuestionID                 50419 non-null  object \n",
            " 27  DataValueTypeID            50419 non-null  object \n",
            " 28  StratificationCategoryID1  50419 non-null  object \n",
            " 29  StratificationID1          50419 non-null  object \n",
            " 30  StratificationCategoryID2  0 non-null      float64\n",
            " 31  StratificationID2          0 non-null      float64\n",
            " 32  StratificationCategoryID3  0 non-null      float64\n",
            " 33  StratificationID3          0 non-null      float64\n",
            "dtypes: float64(14), int64(2), object(18)\n",
            "memory usage: 13.1+ MB\n",
            "None\n",
            "          YearStart       YearEnd  Response   DataValueAlt  \\\n",
            "count  50420.000000  50420.000000       0.0   26120.000000   \n",
            "mean    2015.196589   2015.427370       NaN     638.779127   \n",
            "std        3.027163      2.887681       NaN    5229.850278   \n",
            "min     2008.000000   2010.000000       NaN       0.000000   \n",
            "25%     2013.000000   2013.000000       NaN       9.100000   \n",
            "50%     2015.000000   2016.000000       NaN      16.700000   \n",
            "75%     2018.000000   2018.000000       NaN      57.600000   \n",
            "max     2021.000000   2021.000000       NaN  222051.000000   \n",
            "\n",
            "       LowConfidenceLimit  HighConfidenceLimit  StratificationCategory2  \\\n",
            "count        17867.000000         17867.000000                      0.0   \n",
            "mean            17.123888            23.009224                      NaN   \n",
            "std             20.025135            23.436524                      NaN   \n",
            "min              0.000000             0.000000                      NaN   \n",
            "25%              6.700000            10.000000                      NaN   \n",
            "50%             10.400000            14.900000                      NaN   \n",
            "75%             18.500000            26.905000                      NaN   \n",
            "max            242.900000           406.200000                      NaN   \n",
            "\n",
            "       Stratification2  StratificationCategory3  Stratification3  ResponseID  \\\n",
            "count              0.0                      0.0              0.0         0.0   \n",
            "mean               NaN                      NaN              NaN         NaN   \n",
            "std                NaN                      NaN              NaN         NaN   \n",
            "min                NaN                      NaN              NaN         NaN   \n",
            "25%                NaN                      NaN              NaN         NaN   \n",
            "50%                NaN                      NaN              NaN         NaN   \n",
            "75%                NaN                      NaN              NaN         NaN   \n",
            "max                NaN                      NaN              NaN         NaN   \n",
            "\n",
            "         LocationID  StratificationCategoryID2  StratificationID2  \\\n",
            "count  50419.000000                        0.0                0.0   \n",
            "mean      29.067356                        NaN                NaN   \n",
            "std       16.685696                        NaN                NaN   \n",
            "min        1.000000                        NaN                NaN   \n",
            "25%       16.000000                        NaN                NaN   \n",
            "50%       28.000000                        NaN                NaN   \n",
            "75%       41.000000                        NaN                NaN   \n",
            "max       78.000000                        NaN                NaN   \n",
            "\n",
            "       StratificationCategoryID3  StratificationID3  \n",
            "count                        0.0                0.0  \n",
            "mean                         NaN                NaN  \n",
            "std                          NaN                NaN  \n",
            "min                          NaN                NaN  \n",
            "25%                          NaN                NaN  \n",
            "50%                          NaN                NaN  \n",
            "75%                          NaN                NaN  \n",
            "max                          NaN                NaN  \n"
          ]
        }
      ],
      "source": [
        "# Inspecting the dataframe programmatically\n",
        "# Check for missing values\n",
        "print(cdi_df.isnull().sum())\n",
        "\n",
        "# Check data types and ranges\n",
        "print(cdi_df.info())\n",
        "print(cdi_df.describe())\n"
      ]
    },
    {
      "cell_type": "markdown",
      "metadata": {
        "id": "WwVU7fEXUsQ0"
      },
      "source": [
        "**Quality Issue 1: Missing Values in `DataValue` (Dataset 1)**\n",
        "\n",
        "The `DataValue` column contains a large number of missing values (23,997 out of 50,420 rows, ~47.6%). Additionally, related columns such as `Response` and several stratification columns are mostly or entirely empty. This constitutes a data quality issue because missing or incomplete critical values can distort analyses, such as calculating averages, trends, or correlations.\n",
        "\n",
        "Both visual inspection (observing NaN values in `head()` and `sample()` outputs) and programmatic checks (`isnull().sum()` and `describe()`) confirm the presence and extent of missing data, indicating a major completeness issue in the dataset.\n"
      ]
    },
    {
      "cell_type": "markdown",
      "metadata": {
        "id": "8Be77N4I1AmE"
      },
      "source": [
        "### Quality Issue 2:"
      ]
    },
    {
      "cell_type": "code",
      "execution_count": 15,
      "metadata": {
        "id": "iMhHyiyLM2I3",
        "outputId": "61e212f2-a0ab-4e49-c249-4359517844c6",
        "colab": {
          "base_uri": "https://localhost:8080/"
        }
      },
      "outputs": [
        {
          "output_type": "stream",
          "name": "stdout",
          "text": [
            "           LocationDesc                                     GeoLocation\n",
            "0              Arkansas    POINT (-92.27449074299966 34.74865012400045)\n",
            "1              Colorado  POINT (-106.13361092099967 38.843840757000464)\n",
            "2  District of Columbia                    POINT (-77.036871 38.907192)\n",
            "3               Georgia    POINT (-83.62758034599966 32.83968109300048)\n",
            "4              Michigan     POINT (-84.71439026999968 44.6613195430005)\n",
            "5               Montana   POINT (-109.42442064499971 47.06652897200047)\n",
            "6                Oregon   POINT (-120.15503132599969 44.56744942400047)\n",
            "7           Puerto Rico                    POINT (-66.590149 18.220833)\n",
            "8           Puerto Rico                    POINT (-66.590149 18.220833)\n",
            "9             Wisconsin    POINT (-89.81637074199966 44.39319117400049)\n",
            "        LocationDesc                                     GeoLocation\n",
            "14847           Ohio    POINT (-82.40426005599966 40.06021014100048)\n",
            "10009    Connecticut    POINT (-72.64984095199964 41.56266102000046)\n",
            "14436       Kentucky   POINT (-84.77497104799966 37.645970271000465)\n",
            "3896   Massachusetts    POINT (-72.08269067499964 42.27687047000046)\n",
            "6824         Alabama    POINT (-86.63186076199969 32.84057112200048)\n",
            "5268        Kentucky   POINT (-84.77497104799966 37.645970271000465)\n",
            "710           Hawaii  POINT (-157.85774940299973 21.304850435000446)\n",
            "19639           Guam                    POINT (144.793731 13.444304)\n",
            "5582         Arizona  POINT (-111.76381127699972 34.865970280000454)\n",
            "26846       Colorado  POINT (-106.13361092099967 38.843840757000464)\n"
          ]
        }
      ],
      "source": [
        "# Inspecting the dataframe visually\n",
        "# Visual inspection of the 'GeoLocation' column\n",
        "print(cdi_df[['LocationDesc', 'GeoLocation']].head(10))\n",
        "\n",
        "# Random sample to check for anomalies or inconsistencies\n",
        "print(cdi_df[['LocationDesc', 'GeoLocation']].sample(10))\n"
      ]
    },
    {
      "cell_type": "code",
      "execution_count": 16,
      "metadata": {
        "id": "bnviRCUI-bb7",
        "outputId": "aa96dea9-7010-4558-93e8-2a8a7f0e544d",
        "colab": {
          "base_uri": "https://localhost:8080/"
        }
      },
      "outputs": [
        {
          "output_type": "stream",
          "name": "stdout",
          "text": [
            "Missing values in 'GeoLocation': 247 out of 50420 rows\n",
            "Number of unique GeoLocation entries: 54\n"
          ]
        }
      ],
      "source": [
        "# Inspecting the dataframe programmatically\n",
        "# Count missing values in 'GeoLocation'\n",
        "missing_geo = cdi_df['GeoLocation'].isnull().sum()\n",
        "\n",
        "# Check unique values to spot inconsistent formats\n",
        "unique_geo = cdi_df['GeoLocation'].nunique()\n",
        "\n",
        "# Display results\n",
        "print(f\"Missing values in 'GeoLocation': {missing_geo} out of {len(cdi_df)} rows\")\n",
        "print(f\"Number of unique GeoLocation entries: {unique_geo}\")\n"
      ]
    },
    {
      "cell_type": "markdown",
      "metadata": {
        "id": "yBjG1OUHUsQ1"
      },
      "source": [
        "**Quality Issue 2: Missing and Inconsistent Values in `GeoLocation` (Dataset 1)**\n",
        "\n",
        "The `GeoLocation` column contains a small number of missing values (247 out of 50,420 rows, ~0.49%) and some inconsistencies in format, such as variations in how latitude and longitude are recorded (e.g., different decimal precision or spacing).\n",
        "\n",
        "This constitutes a data quality issue because inaccurate or missing location data can affect spatial analyses, mapping, or merging with other datasets. Both visual inspection (observing `head()` and random sample outputs) and programmatic checks (counting missing values with `isnull().sum()` and checking the number of unique entries with `nunique()`) confirm the presence and extent of these issues.\n"
      ]
    },
    {
      "cell_type": "markdown",
      "source": [
        "### Quality Issue 3:"
      ],
      "metadata": {
        "id": "00vyojlafEFk"
      }
    },
    {
      "cell_type": "code",
      "source": [
        "# Visual inspection of PM2.5 dataset\n",
        "# Show first 10 rows to check the structure and potential missing values\n",
        "print(pm25_df.head(10))\n",
        "\n",
        "# Check random 10 rows to spot anomalies in AQI or location\n",
        "print(pm25_df[['State Name', 'City Name', 'AQI']].sample(10))\n"
      ],
      "metadata": {
        "colab": {
          "base_uri": "https://localhost:8080/"
        },
        "id": "q1CWKf85fGm0",
        "outputId": "ae6ab985-7bca-4b73-a536-d4685029b067"
      },
      "execution_count": 17,
      "outputs": [
        {
          "output_type": "stream",
          "name": "stdout",
          "text": [
            "   State Code  County Code  Site Num  Parameter Code  POC   Latitude  \\\n",
            "0           1            3        10           88101    1  30.497478   \n",
            "1           1            3        10           88101    1  30.497478   \n",
            "2           1            3        10           88101    1  30.497478   \n",
            "3           1            3        10           88101    1  30.497478   \n",
            "4           1            3        10           88101    1  30.497478   \n",
            "5           1            3        10           88101    1  30.497478   \n",
            "6           1            3        10           88101    1  30.497478   \n",
            "7           1            3        10           88101    1  30.497478   \n",
            "8           1            3        10           88101    1  30.497478   \n",
            "9           1            3        10           88101    1  30.497478   \n",
            "\n",
            "   Longitude  Datum            Parameter Name Sample Duration  ...  \\\n",
            "0 -87.880258  NAD83  PM2.5 - Local Conditions         24 HOUR  ...   \n",
            "1 -87.880258  NAD83  PM2.5 - Local Conditions         24 HOUR  ...   \n",
            "2 -87.880258  NAD83  PM2.5 - Local Conditions         24 HOUR  ...   \n",
            "3 -87.880258  NAD83  PM2.5 - Local Conditions         24 HOUR  ...   \n",
            "4 -87.880258  NAD83  PM2.5 - Local Conditions         24 HOUR  ...   \n",
            "5 -87.880258  NAD83  PM2.5 - Local Conditions         24 HOUR  ...   \n",
            "6 -87.880258  NAD83  PM2.5 - Local Conditions         24 HOUR  ...   \n",
            "7 -87.880258  NAD83  PM2.5 - Local Conditions         24 HOUR  ...   \n",
            "8 -87.880258  NAD83  PM2.5 - Local Conditions         24 HOUR  ...   \n",
            "9 -87.880258  NAD83  PM2.5 - Local Conditions         24 HOUR  ...   \n",
            "\n",
            "  Method Code                                        Method Name  \\\n",
            "0         145  R & P Model 2025 PM-2.5 Sequential Air Sampler...   \n",
            "1         145  R & P Model 2025 PM-2.5 Sequential Air Sampler...   \n",
            "2         145  R & P Model 2025 PM-2.5 Sequential Air Sampler...   \n",
            "3         145  R & P Model 2025 PM-2.5 Sequential Air Sampler...   \n",
            "4         145  R & P Model 2025 PM-2.5 Sequential Air Sampler...   \n",
            "5         145  R & P Model 2025 PM-2.5 Sequential Air Sampler...   \n",
            "6         145  R & P Model 2025 PM-2.5 Sequential Air Sampler...   \n",
            "7         145  R & P Model 2025 PM-2.5 Sequential Air Sampler...   \n",
            "8         145  R & P Model 2025 PM-2.5 Sequential Air Sampler...   \n",
            "9         145  R & P Model 2025 PM-2.5 Sequential Air Sampler...   \n",
            "\n",
            "     Local Site Name                                            Address  \\\n",
            "0  FAIRHOPE, Alabama  FAIRHOPE HIGH SCHOOL, 1 PIRATE DRIVE, FAIRHOPE...   \n",
            "1  FAIRHOPE, Alabama  FAIRHOPE HIGH SCHOOL, 1 PIRATE DRIVE, FAIRHOPE...   \n",
            "2  FAIRHOPE, Alabama  FAIRHOPE HIGH SCHOOL, 1 PIRATE DRIVE, FAIRHOPE...   \n",
            "3  FAIRHOPE, Alabama  FAIRHOPE HIGH SCHOOL, 1 PIRATE DRIVE, FAIRHOPE...   \n",
            "4  FAIRHOPE, Alabama  FAIRHOPE HIGH SCHOOL, 1 PIRATE DRIVE, FAIRHOPE...   \n",
            "5  FAIRHOPE, Alabama  FAIRHOPE HIGH SCHOOL, 1 PIRATE DRIVE, FAIRHOPE...   \n",
            "6  FAIRHOPE, Alabama  FAIRHOPE HIGH SCHOOL, 1 PIRATE DRIVE, FAIRHOPE...   \n",
            "7  FAIRHOPE, Alabama  FAIRHOPE HIGH SCHOOL, 1 PIRATE DRIVE, FAIRHOPE...   \n",
            "8  FAIRHOPE, Alabama  FAIRHOPE HIGH SCHOOL, 1 PIRATE DRIVE, FAIRHOPE...   \n",
            "9  FAIRHOPE, Alabama  FAIRHOPE HIGH SCHOOL, 1 PIRATE DRIVE, FAIRHOPE...   \n",
            "\n",
            "   State Name  County Name  City Name                  CBSA Name  \\\n",
            "0     Alabama      Baldwin   Fairhope  Daphne-Fairhope-Foley, AL   \n",
            "1     Alabama      Baldwin   Fairhope  Daphne-Fairhope-Foley, AL   \n",
            "2     Alabama      Baldwin   Fairhope  Daphne-Fairhope-Foley, AL   \n",
            "3     Alabama      Baldwin   Fairhope  Daphne-Fairhope-Foley, AL   \n",
            "4     Alabama      Baldwin   Fairhope  Daphne-Fairhope-Foley, AL   \n",
            "5     Alabama      Baldwin   Fairhope  Daphne-Fairhope-Foley, AL   \n",
            "6     Alabama      Baldwin   Fairhope  Daphne-Fairhope-Foley, AL   \n",
            "7     Alabama      Baldwin   Fairhope  Daphne-Fairhope-Foley, AL   \n",
            "8     Alabama      Baldwin   Fairhope  Daphne-Fairhope-Foley, AL   \n",
            "9     Alabama      Baldwin   Fairhope  Daphne-Fairhope-Foley, AL   \n",
            "\n",
            "   Date of Last Change  Year  \n",
            "0           2024-09-05  2019  \n",
            "1           2024-09-05  2019  \n",
            "2           2024-09-05  2019  \n",
            "3           2024-09-05  2019  \n",
            "4           2024-09-05  2019  \n",
            "5           2024-09-05  2019  \n",
            "6           2024-09-05  2019  \n",
            "7           2024-09-05  2019  \n",
            "8           2024-09-05  2019  \n",
            "9           2024-09-05  2019  \n",
            "\n",
            "[10 rows x 30 columns]\n",
            "            State Name                       City Name   AQI\n",
            "1278380           Utah                  Salt Lake City  66.0\n",
            "2506097  Massachusetts                     Springfield  18.0\n",
            "2911496           Utah                           Price   NaN\n",
            "283496   Massachusetts  Chelmsford (Chelmsford Center)   NaN\n",
            "3082274     California                          Quincy   NaN\n",
            "556206           Texas                       Galveston   NaN\n",
            "3238832         Hawaii                         Kahului  22.0\n",
            "4460723      Tennessee                         Memphis  35.0\n",
            "2327609        Florida                    Delray Beach   NaN\n",
            "4391641   Pennsylvania                        Clairton  13.0\n"
          ]
        }
      ]
    },
    {
      "cell_type": "code",
      "source": [
        "# Programmatic inspection\n",
        "\n",
        "# 1. Check missing values in AQI\n",
        "missing_aqi = pm25_df['AQI'].isnull().sum()\n",
        "\n",
        "# 2. Check number of unique AQI values\n",
        "unique_aqi = pm25_df['AQI'].nunique()\n",
        "\n",
        "# 3. Check for duplicates\n",
        "duplicates = pm25_df.duplicated().sum()\n",
        "\n",
        "# 4. Check for negative or invalid AQI values\n",
        "invalid_aqi = (pm25_df['AQI'] < 0).sum()\n",
        "\n",
        "# Display results\n",
        "print(f\"Missing values in 'AQI': {missing_aqi} out of {len(pm25_df)} rows\")\n",
        "print(f\"Number of unique AQI entries: {unique_aqi}\")\n",
        "print(f\"Number of duplicate rows: {duplicates}\")\n",
        "print(f\"Number of invalid AQI (<0) entries: {invalid_aqi}\")\n"
      ],
      "metadata": {
        "colab": {
          "base_uri": "https://localhost:8080/"
        },
        "id": "9BeusR0kfPdU",
        "outputId": "c348330d-d88f-4923-ecff-e3b5be9daa82"
      },
      "execution_count": 18,
      "outputs": [
        {
          "output_type": "stream",
          "name": "stdout",
          "text": [
            "Missing values in 'AQI': 2103765 out of 4589067 rows\n",
            "Number of unique AQI entries: 451\n",
            "Number of duplicate rows: 0\n",
            "Number of invalid AQI (<0) entries: 0\n"
          ]
        }
      ]
    },
    {
      "cell_type": "markdown",
      "source": [
        "#### Issue and Justification: Dataset 2 (PM2.5 AQI)\n",
        "\n",
        "**Quality Issue 1: Missing AQI Values**  \n",
        "The `AQI` column for PM2.5 contains 2,103,765 missing values out of 4,589,067 rows (~45.84%). Missing values can significantly impact analyses such as calculating average air quality, identifying trends, or comparing pollution levels across cities and states. Both visual inspection (`head()` and `sample()`) and programmatic checks (`isnull().sum()`) confirm the presence and extent of missing data.\n",
        "\n",
        "**Quality Issue 2: Invalid AQI Values**  \n",
        "No negative or obviously invalid AQI values were detected, but the presence of missing entries and potential outliers in extremely high values may affect analysis accuracy. Programmatic filtering (`AQI < 0`) ensures that invalid measurements are identified, providing confidence in data integrity.\n",
        "\n",
        "**Justification of Methods:**  \n",
        "- **Visual Inspection:** Quick identification of missing values and anomalies through `head()` and `sample()` outputs.  \n",
        "- **Programmatic Checks:** Precise counts and verification using `isnull()`, `nunique()`, `duplicated()`, and conditional filtering ensure comprehensive assessment of data quality issues.\n"
      ],
      "metadata": {
        "id": "EjuyLxgtf8H5"
      }
    },
    {
      "cell_type": "markdown",
      "metadata": {
        "id": "lXhGiYyiwwKN"
      },
      "source": [
        "### Tidiness Issue 1:"
      ]
    },
    {
      "cell_type": "code",
      "execution_count": 19,
      "metadata": {
        "id": "fleC5rORI0Xl",
        "outputId": "11155e86-4143-49d0-a871-c14571336e93",
        "colab": {
          "base_uri": "https://localhost:8080/"
        }
      },
      "outputs": [
        {
          "output_type": "stream",
          "name": "stdout",
          "text": [
            "  DataValue  DataValueAlt DataValueType\n",
            "0       916         916.0        Number\n",
            "1      2227        2227.0        Number\n",
            "2       708         708.0        Number\n",
            "3      3520        3520.0        Number\n",
            "4       123         123.0        Number\n",
            "5       NaN           NaN        Number\n",
            "6       760         760.0        Number\n",
            "7       NaN           NaN        Number\n",
            "8       NaN           NaN        Number\n",
            "9      1967        1967.0        Number\n",
            "      DataValue  DataValueAlt      DataValueType\n",
            "33513       NaN           NaN         Crude Rate\n",
            "40270       NaN           NaN             Number\n",
            "26532       NaN           NaN             Number\n",
            "32028       NaN           NaN  Age-adjusted Rate\n",
            "4000       65.5          65.5   Crude Prevalence\n",
            "17267       NaN           NaN  Age-adjusted Rate\n",
            "15587      15.0          15.0  Age-adjusted Rate\n",
            "7675        7.5           7.5  Age-adjusted Rate\n",
            "42266       NaN           NaN  Age-adjusted Rate\n",
            "9439       36.5          36.5   Crude Prevalence\n"
          ]
        }
      ],
      "source": [
        "# Visual inspection of the dataframe for tidiness issues\n",
        "# Display first few rows to see if multiple variables are stored in a single column\n",
        "print(cdi_df[['DataValue', 'DataValueAlt', 'DataValueType']].head(10))\n",
        "\n",
        "# Display random sample to check for inconsistencies or repeated variables\n",
        "print(cdi_df[['DataValue', 'DataValueAlt', 'DataValueType']].sample(10))\n"
      ]
    },
    {
      "cell_type": "code",
      "execution_count": 20,
      "metadata": {
        "id": "BTuQw7Rbsio4",
        "outputId": "8ed8d184-eec8-48d4-ba92-60e16e3d3e1b",
        "colab": {
          "base_uri": "https://localhost:8080/"
        }
      },
      "outputs": [
        {
          "output_type": "stream",
          "name": "stdout",
          "text": [
            "['Number' 'Average Annual Number' 'Crude Prevalence' 'Age-adjusted Rate'\n",
            " 'Local control of the regulation of alcohol outlet density' 'Crude Rate'\n",
            " 'Age-adjusted Prevalence' 'US Dollars'\n",
            " 'Commercial host (dram shop) liability status for alcohol service'\n",
            " 'Per capita alcohol consumption' 'Average Annual Age-adjusted Rate'\n",
            " 'Average Annual Crude Rate']\n",
            "26120\n"
          ]
        }
      ],
      "source": [
        "# Check unique values to identify if multiple measures are stored in the same column\n",
        "print(cdi_df['DataValueType'].unique())\n",
        "\n",
        "# Count rows where DataValueAlt exists to see if there are duplicate or redundant measures\n",
        "print(cdi_df['DataValueAlt'].notnull().sum())\n"
      ]
    },
    {
      "cell_type": "markdown",
      "metadata": {
        "id": "GgC4L1ycUsQ1"
      },
      "source": [
        "#### Issue and justification:\n",
        "\n",
        "The DataValue and DataValueAlt columns contain multiple types of measurements, as indicated by the DataValueType column. This is a tidiness issue because a single variable (“value”) is split across multiple columns instead of having one column for all values and another column specifying the type.\n",
        "\n",
        "Both visual inspection (observing head() and random sample outputs) and programmatic checks (counting unique DataValueType entries and non-null values in DataValueAlt) confirm that multiple measurement types are mixed in the same rows. This violates the tidy data principle and complicates analysis, as each type of measurement should ideally be stored in its own row with a corresponding type identifier."
      ]
    },
    {
      "cell_type": "markdown",
      "metadata": {
        "id": "4ffMoRGSwzYj"
      },
      "source": [
        "### Tidiness Issue 2:"
      ]
    },
    {
      "cell_type": "code",
      "execution_count": 21,
      "metadata": {
        "id": "XUpeoqokw5Qt",
        "outputId": "69e2e9cd-3170-4d81-e722-2c59ad46ad8d",
        "colab": {
          "base_uri": "https://localhost:8080/"
        }
      },
      "outputs": [
        {
          "output_type": "stream",
          "name": "stdout",
          "text": [
            "   StratificationCategoryID2  StratificationID2  StratificationCategoryID3  \\\n",
            "0                        NaN                NaN                        NaN   \n",
            "1                        NaN                NaN                        NaN   \n",
            "2                        NaN                NaN                        NaN   \n",
            "3                        NaN                NaN                        NaN   \n",
            "4                        NaN                NaN                        NaN   \n",
            "5                        NaN                NaN                        NaN   \n",
            "6                        NaN                NaN                        NaN   \n",
            "7                        NaN                NaN                        NaN   \n",
            "8                        NaN                NaN                        NaN   \n",
            "9                        NaN                NaN                        NaN   \n",
            "\n",
            "   StratificationID3  \n",
            "0                NaN  \n",
            "1                NaN  \n",
            "2                NaN  \n",
            "3                NaN  \n",
            "4                NaN  \n",
            "5                NaN  \n",
            "6                NaN  \n",
            "7                NaN  \n",
            "8                NaN  \n",
            "9                NaN  \n",
            "       StratificationCategoryID2  StratificationID2  \\\n",
            "5203                         NaN                NaN   \n",
            "3090                         NaN                NaN   \n",
            "39985                        NaN                NaN   \n",
            "32260                        NaN                NaN   \n",
            "49064                        NaN                NaN   \n",
            "34705                        NaN                NaN   \n",
            "27990                        NaN                NaN   \n",
            "44744                        NaN                NaN   \n",
            "12254                        NaN                NaN   \n",
            "38643                        NaN                NaN   \n",
            "\n",
            "       StratificationCategoryID3  StratificationID3  \n",
            "5203                         NaN                NaN  \n",
            "3090                         NaN                NaN  \n",
            "39985                        NaN                NaN  \n",
            "32260                        NaN                NaN  \n",
            "49064                        NaN                NaN  \n",
            "34705                        NaN                NaN  \n",
            "27990                        NaN                NaN  \n",
            "44744                        NaN                NaN  \n",
            "12254                        NaN                NaN  \n",
            "38643                        NaN                NaN  \n"
          ]
        }
      ],
      "source": [
        "# Visual inspection shows that StratificationCategoryID2, StratificationID2,\n",
        "print(cdi_df[['StratificationCategoryID2', 'StratificationID2',\n",
        "              'StratificationCategoryID3', 'StratificationID3']].head(10))\n",
        "print(cdi_df[['StratificationCategoryID2', 'StratificationID2',\n",
        "              'StratificationCategoryID3', 'StratificationID3']].sample(10))\n"
      ]
    },
    {
      "cell_type": "code",
      "execution_count": 22,
      "metadata": {
        "id": "c8JK4DoXxtFA",
        "outputId": "db58097f-09fc-4ea9-b640-abad15aae3fb",
        "colab": {
          "base_uri": "https://localhost:8080/"
        }
      },
      "outputs": [
        {
          "output_type": "stream",
          "name": "stdout",
          "text": [
            "StratificationCategoryID2    50420\n",
            "StratificationID2            50420\n",
            "StratificationCategoryID3    50420\n",
            "StratificationID3            50420\n",
            "dtype: int64\n"
          ]
        }
      ],
      "source": [
        "# Programmatic inspection confirms that all rows in these columns are missing\n",
        "print(cdi_df[['StratificationCategoryID2', 'StratificationID2',\n",
        "              'StratificationCategoryID3', 'StratificationID3']].isnull().sum())"
      ]
    },
    {
      "cell_type": "markdown",
      "metadata": {
        "id": "CQ1EwOJbUsQ_"
      },
      "source": [
        "#### Issue and Justification:\n",
        "\n",
        "The columns StratificationCategoryID2, StratificationID2, StratificationCategoryID3, and StratificationID3 constitute a tidiness issue because multiple stratification levels are spread across separate, mostly empty columns rather than being consolidated into a single “Stratification Level” column with a corresponding value.\n",
        "\n",
        "This violates tidy data principles, making analysis of stratified data unnecessarily complex. Both visual inspection (observing head() and random samples) and programmatic checks (counting missing values) confirm that these columns are redundant and not consistently populated."
      ]
    },
    {
      "cell_type": "markdown",
      "source": [
        "### Tidiness Issue 3:"
      ],
      "metadata": {
        "id": "SffAp8zpqTLU"
      }
    },
    {
      "cell_type": "code",
      "source": [
        "# Visual inspection of AQI data for tidiness issues\n",
        "# Display first few rows to check if multiple measurements or variables are stored inconsistently\n",
        "print(pm25_df[['State Name', 'City Name', 'AQI', 'Parameter Name', 'Sample Duration']].head(10))\n",
        "\n",
        "# Random sample to check for repeated measurements or inconsistencies in columns\n",
        "print(pm25_df[['State Name', 'City Name', 'AQI', 'Parameter Name', 'Sample Duration']].sample(10))\n"
      ],
      "metadata": {
        "colab": {
          "base_uri": "https://localhost:8080/"
        },
        "id": "fcQbAurtiQwc",
        "outputId": "eba38b63-8399-48bd-a8f8-ca8fc221e210"
      },
      "execution_count": 23,
      "outputs": [
        {
          "output_type": "stream",
          "name": "stdout",
          "text": [
            "  State Name City Name   AQI            Parameter Name Sample Duration\n",
            "0    Alabama  Fairhope  24.0  PM2.5 - Local Conditions         24 HOUR\n",
            "1    Alabama  Fairhope  47.0  PM2.5 - Local Conditions         24 HOUR\n",
            "2    Alabama  Fairhope  18.0  PM2.5 - Local Conditions         24 HOUR\n",
            "3    Alabama  Fairhope  48.0  PM2.5 - Local Conditions         24 HOUR\n",
            "4    Alabama  Fairhope  50.0  PM2.5 - Local Conditions         24 HOUR\n",
            "5    Alabama  Fairhope  21.0  PM2.5 - Local Conditions         24 HOUR\n",
            "6    Alabama  Fairhope  58.0  PM2.5 - Local Conditions         24 HOUR\n",
            "7    Alabama  Fairhope  26.0  PM2.5 - Local Conditions         24 HOUR\n",
            "8    Alabama  Fairhope  53.0  PM2.5 - Local Conditions         24 HOUR\n",
            "9    Alabama  Fairhope  21.0  PM2.5 - Local Conditions         24 HOUR\n",
            "             State Name      City Name    AQI            Parameter Name  \\\n",
            "964476         Michigan        Detroit   54.0  PM2.5 - Local Conditions   \n",
            "3106923      California  San Francisco    NaN  PM2.5 - Local Conditions   \n",
            "2680055  North Carolina      Asheville   41.0  PM2.5 - Local Conditions   \n",
            "2933896         Vermont     Burlington    NaN  PM2.5 - Local Conditions   \n",
            "1780077          Nevada      Las Vegas   15.0  PM2.5 - Local Conditions   \n",
            "686948       California         Clovis   64.0  PM2.5 - Local Conditions   \n",
            "2703291    North Dakota       Bismarck   49.0  PM2.5 - Local Conditions   \n",
            "681483       California        Concord  126.0  PM2.5 - Local Conditions   \n",
            "4013274         Florida     Ferry Pass   58.0  PM2.5 - Local Conditions   \n",
            "1434407      California         Folsom   34.0  PM2.5 - Local Conditions   \n",
            "\n",
            "        Sample Duration  \n",
            "964476    24-HR BLK AVG  \n",
            "3106923          1 HOUR  \n",
            "2680055   24-HR BLK AVG  \n",
            "2933896          1 HOUR  \n",
            "1780077   24-HR BLK AVG  \n",
            "686948    24-HR BLK AVG  \n",
            "2703291   24-HR BLK AVG  \n",
            "681483    24-HR BLK AVG  \n",
            "4013274   24-HR BLK AVG  \n",
            "1434407   24-HR BLK AVG  \n"
          ]
        }
      ]
    },
    {
      "cell_type": "code",
      "source": [
        "# Programmatic check for duplicated measurements across same state, city, and date\n",
        "duplicates_pm25 = pm25_df.duplicated(subset=['State Name', 'City Name', 'Date Local', 'Parameter Name']).sum()\n",
        "\n",
        "# Display results\n",
        "print(f\"Number of duplicate measurements for PM2.5: {duplicates_pm25}\")"
      ],
      "metadata": {
        "colab": {
          "base_uri": "https://localhost:8080/"
        },
        "id": "606dk886iRAZ",
        "outputId": "c9b13793-b9c8-4eb9-df7b-ac0eaf99e2b6"
      },
      "execution_count": 24,
      "outputs": [
        {
          "output_type": "stream",
          "name": "stdout",
          "text": [
            "Number of duplicate measurements for PM2.5: 3246488\n"
          ]
        }
      ]
    },
    {
      "cell_type": "markdown",
      "source": [
        "### Issue and Justification:\n",
        "\n",
        "In the PM2.5 dataset, a very large number of AQI measurements (3,246,488 duplicates) for the same location and parameter are stored in separate rows, often with different Sample Duration values. This violates the tidy data principle, which states that each variable should have its own column and each observation should occupy a single row.\n",
        "\n",
        "This tidiness issue complicates analysis of daily or location-based trends, as data aggregation is required to consolidate multiple entries per location and date. Both visual inspection (observing head() and random samples) and programmatic checks (counting duplicates based on State, City, Date, and Parameter Name) confirm the extent of this redundancy, indicating a critical need to clean and restructure the dataset for proper analysis."
      ],
      "metadata": {
        "id": "L2JD6tiwiRQI"
      }
    },
    {
      "cell_type": "markdown",
      "metadata": {
        "id": "D6gmLnBttpCh"
      },
      "source": [
        "## 3. Clean data\n",
        "Clean the data to solve the 4 issues corresponding to data quality and tidiness found in the assessing step. **Make sure you include justifications for your cleaning decisions.**\n",
        "\n",
        "After the cleaning for each issue, please use **either** the visually or programatical method to validate the cleaning was succesful.\n",
        "\n",
        "At this stage, you are also expected to remove variables that are unnecessary for your analysis and combine your datasets. Depending on your datasets, you may choose to perform variable combination and elimination before or after the cleaning stage. Your dataset must have **at least** 4 variables after combining the data."
      ]
    },
    {
      "cell_type": "code",
      "execution_count": 25,
      "metadata": {
        "id": "pUjP8yxZUsQ_"
      },
      "outputs": [],
      "source": [
        "# Step 3: Clean Data\n",
        "\n",
        "# Make copies of the original datasets to preserve raw data\n",
        "cdi_clean = cdi_df.copy()\n",
        "pm25_clean = pm25_df.copy()\n"
      ]
    },
    {
      "cell_type": "markdown",
      "metadata": {
        "id": "FmFhN52Yyn3l"
      },
      "source": [
        "### **Quality Issue 1:**"
      ]
    },
    {
      "cell_type": "code",
      "execution_count": 26,
      "metadata": {
        "id": "9UejDWrNMW4a"
      },
      "outputs": [],
      "source": [
        "### Quality Issue 1: Missing Data in DataValue\n",
        "\n",
        "# Cleaning strategy:\n",
        "# Remove rows where 'DataValue' is missing because these rows cannot be used in analysis\n",
        "cdi_clean = cdi_clean.dropna(subset=['DataValue'])\n"
      ]
    },
    {
      "cell_type": "code",
      "execution_count": 27,
      "metadata": {
        "id": "oUBee-LPytkv",
        "outputId": "eb1f7298-e88a-4275-97d2-e4095ff8e299",
        "colab": {
          "base_uri": "https://localhost:8080/"
        }
      },
      "outputs": [
        {
          "output_type": "stream",
          "name": "stdout",
          "text": [
            "Missing values in 'DataValue' after cleaning: 0\n"
          ]
        }
      ],
      "source": [
        "# Validate that cleaning was successful\n",
        "missing_after = cdi_clean['DataValue'].isnull().sum()\n",
        "print(f\"Missing values in 'DataValue' after cleaning: {missing_after}\")\n"
      ]
    },
    {
      "cell_type": "markdown",
      "metadata": {
        "id": "6M9hM7RIUsRA"
      },
      "source": [
        "#### Justification:\n",
        "\n",
        "The 'DataValue' column is essential for analysis.  \n",
        "Removing rows with missing values ensures that the dataset contains only complete and reliable entries,  \n",
        "which prevents distorted calculations and avoids misleading results.\n"
      ]
    },
    {
      "cell_type": "markdown",
      "metadata": {
        "id": "n_DAUbJrymBL"
      },
      "source": [
        "### **Quality Issue 2:**"
      ]
    },
    {
      "cell_type": "code",
      "execution_count": 31,
      "metadata": {
        "id": "5Yfb-Yu5MTuE"
      },
      "outputs": [],
      "source": [
        "# Remove rows where GeoLocation is missing\n",
        "cdi_clean = cdi_clean.dropna(subset=['GeoLocation'])\n"
      ]
    },
    {
      "cell_type": "code",
      "execution_count": 32,
      "metadata": {
        "id": "ionB2sRaMUmY",
        "colab": {
          "base_uri": "https://localhost:8080/"
        },
        "outputId": "5b20a92a-2513-4330-903a-07be5ad7bd91"
      },
      "outputs": [
        {
          "output_type": "stream",
          "name": "stdout",
          "text": [
            "Missing values in 'GeoLocation' after cleaning: 0\n"
          ]
        }
      ],
      "source": [
        "#Validate the cleaning was successful\n",
        "print(\"Missing values in 'GeoLocation' after cleaning:\", cdi_clean['GeoLocation'].isnull().sum())"
      ]
    },
    {
      "cell_type": "markdown",
      "metadata": {
        "id": "NeXHId0QUsRA"
      },
      "source": [
        "#### Justification:\n",
        "\n",
        "The 'GeoLocation' column is crucial for any spatial or location-based analysis.  \n",
        "Removing rows with missing GeoLocation values ensures that the dataset only contains complete and reliable entries,  \n",
        "which prevents errors or misinterpretation in mapping and geographic analyses.\n"
      ]
    },
    {
      "cell_type": "markdown",
      "source": [
        "### **Quality Issue 3:**  \n",
        "Clean Dataset 2 (PM2.5 / AQI)"
      ],
      "metadata": {
        "id": "gxL4jcFYln40"
      }
    },
    {
      "cell_type": "code",
      "source": [
        "# --- Quality Issue 1: Missing AQI Values ---\n",
        "# Remove rows where AQI is missing, because missing AQI cannot be used in analysis\n",
        "pm25_clean = pm25_clean.dropna(subset=['AQI'])\n",
        "\n",
        "# Validate cleaning\n",
        "missing_aqi = pm25_clean['AQI'].isnull().sum()\n",
        "print(\"Missing values in 'AQI' after cleaning:\", missing_aqi)\n"
      ],
      "metadata": {
        "colab": {
          "base_uri": "https://localhost:8080/"
        },
        "id": "VkXmqCQ3lm-W",
        "outputId": "e5cac288-c008-4801-d940-8ba7748c372e"
      },
      "execution_count": 36,
      "outputs": [
        {
          "output_type": "stream",
          "name": "stdout",
          "text": [
            "Missing values in 'AQI' after cleaning: 0\n"
          ]
        }
      ]
    },
    {
      "cell_type": "markdown",
      "source": [
        "### Justification\n",
        "Removing rows with missing AQI ensures that analyses like average AQI calculations,\n",
        "trends over time, and city/state comparisons are accurate and not biased."
      ],
      "metadata": {
        "id": "P4gjPqVtmi-a"
      }
    },
    {
      "cell_type": "code",
      "source": [
        "# --- Quality Issue 2: Invalid AQI Values ---\n",
        "# Ensure all AQI values are non-negative\n",
        "pm25_clean = pm25_clean[pm25_clean['AQI'] >= 0]\n",
        "\n",
        "# Validate cleaning\n",
        "invalid_aqi_count = (pm25_clean['AQI'] < 0).sum()\n",
        "print(\"Invalid AQI values after cleaning:\", invalid_aqi_count)"
      ],
      "metadata": {
        "colab": {
          "base_uri": "https://localhost:8080/"
        },
        "id": "0IeF9uJHlnHk",
        "outputId": "b617e161-6862-42b4-da19-9b0627540874"
      },
      "execution_count": 37,
      "outputs": [
        {
          "output_type": "stream",
          "name": "stdout",
          "text": [
            "Invalid AQI values after cleaning: 0\n"
          ]
        }
      ]
    },
    {
      "cell_type": "markdown",
      "source": [
        "### Justification\n",
        "\n",
        "The AQI (Air Quality Index) cannot be negative, as negative values are not physically meaningful.  \n",
        "Filtering out any negative AQI values ensures the integrity and reliability of the dataset,  \n",
        "preventing inaccurate analyses or misleading conclusions in air quality assessments.\n"
      ],
      "metadata": {
        "id": "dWWSbqLBmEjK"
      }
    },
    {
      "cell_type": "code",
      "source": [
        "# --- Quality Issue 3: Duplicate Measurements ---\n",
        "# Remove duplicate AQI measurements for the same State, City, Date, and Parameter\n",
        "# Keeping only the first occurrence ensures that each observation represents a unique measurement\n",
        "pm25_clean = pm25_clean.drop_duplicates(subset=['State Name', 'City Name', 'Date Local', 'Parameter Name'])\n",
        "\n",
        "# Validate cleaning\n",
        "duplicate_count = pm25_clean.duplicated(subset=['State Name', 'City Name', 'Date Local', 'Parameter Name']).sum()\n",
        "print(\"Duplicate AQI measurements after cleaning:\", duplicate_count)  # Should be 0\n"
      ],
      "metadata": {
        "colab": {
          "base_uri": "https://localhost:8080/"
        },
        "id": "wUkkceGAm5Kz",
        "outputId": "6a26c45e-567b-474b-f1cf-469a46b94444"
      },
      "execution_count": 40,
      "outputs": [
        {
          "output_type": "stream",
          "name": "stdout",
          "text": [
            "Duplicate AQI measurements after cleaning: 0\n"
          ]
        }
      ]
    },
    {
      "cell_type": "markdown",
      "source": [
        "#### Justification:\n",
        "\n",
        "Duplicate AQI measurements for the same location, date, and parameter can distort analysis results,  \n",
        "such as calculating daily averages or comparing air quality across cities and states.  \n",
        "By removing duplicates, we ensure that each observation represents a unique and valid measurement,  \n",
        "improving the accuracy and reliability of subsequent analyses and visualizations.\n"
      ],
      "metadata": {
        "id": "EpFUG_ySnlKK"
      }
    },
    {
      "cell_type": "markdown",
      "metadata": {
        "id": "bIUrrfSNyOPR"
      },
      "source": [
        "### **Tidiness Issue 1:**"
      ]
    },
    {
      "cell_type": "code",
      "execution_count": 45,
      "metadata": {
        "id": "fib0zAm333bn"
      },
      "outputs": [],
      "source": [
        "# --- Cleaning ---\n",
        "cdi_tidy = cdi_clean.melt(\n",
        "    id_vars=[col for col in cdi_clean.columns if col not in ['DataValue', 'DataValueAlt']],\n",
        "    value_vars=['DataValue', 'DataValueAlt'],\n",
        "    var_name='ValueColumn',\n",
        "    value_name='Value'\n",
        ")\n",
        "cdi_tidy['MeasurementType'] = cdi_tidy.apply(\n",
        "    lambda row: row['DataValueType'] if pd.notnull(row['Value']) else None, axis=1\n",
        ")\n",
        "cdi_tidy = cdi_tidy.drop(columns=['ValueColumn', 'DataValueType'])\n",
        "cdi_tidy = cdi_tidy.dropna(subset=['Value'])\n"
      ]
    },
    {
      "cell_type": "code",
      "execution_count": 46,
      "metadata": {
        "id": "yhrnUGY_Nk8B",
        "colab": {
          "base_uri": "https://localhost:8080/"
        },
        "outputId": "62cce91d-3247-4514-d7e0-cec9317d5e62"
      },
      "outputs": [
        {
          "output_type": "stream",
          "name": "stdout",
          "text": [
            "  Value MeasurementType\n",
            "0   916          Number\n",
            "1  2227          Number\n",
            "2   708          Number\n",
            "3  3520          Number\n",
            "4   123          Number\n",
            "5   760          Number\n",
            "6  1967          Number\n",
            "7   110          Number\n",
            "8    22          Number\n",
            "9    21          Number\n",
            "['Number' 'Average Annual Number' 'Crude Prevalence'\n",
            " 'Local control of the regulation of alcohol outlet density'\n",
            " 'Age-adjusted Rate' 'Crude Rate' 'Age-adjusted Prevalence' 'US Dollars'\n",
            " 'Commercial host (dram shop) liability status for alcohol service'\n",
            " 'Per capita alcohol consumption' 'Average Annual Age-adjusted Rate'\n",
            " 'Average Annual Crude Rate']\n"
          ]
        }
      ],
      "source": [
        "# --- Validation ---\n",
        "print(cdi_tidy[['Value','MeasurementType']].head(10))\n",
        "print(cdi_tidy['MeasurementType'].unique())\n"
      ]
    },
    {
      "cell_type": "markdown",
      "metadata": {
        "id": "mkGq__LiUsRA"
      },
      "source": [
        "### Justification:\n",
        "\n",
        "Tidiness Issue 1 arises because multiple measurement types (Number, Crude Rate, Age-adjusted Rate, …) were spread across two columns. By melting, we consolidate all measurements into a single column (Value) with a corresponding MeasurementType. This respects tidy data principles and simplifies analysis.\n"
      ]
    },
    {
      "cell_type": "markdown",
      "metadata": {
        "id": "o51Bt8kwyTzk"
      },
      "source": [
        "### **Tidiness Issue 2:**"
      ]
    },
    {
      "cell_type": "code",
      "execution_count": 47,
      "metadata": {
        "id": "7zW8O5yx4Y9O"
      },
      "outputs": [],
      "source": [
        "# --- Cleaning ---\n",
        "# Melt stratification columns into a single 'StratificationLevel' and 'StratificationValue'\n",
        "strat_cols = ['StratificationCategoryID2','StratificationID2','StratificationCategoryID3','StratificationID3']\n",
        "cdi_strat_tidy = cdi_clean.melt(\n",
        "    id_vars=[col for col in cdi_clean.columns if col not in strat_cols],\n",
        "    value_vars=strat_cols,\n",
        "    var_name='StratificationLevel',\n",
        "    value_name='StratificationValue'\n",
        ")\n",
        "# Drop rows where StratificationValue is null\n",
        "cdi_strat_tidy = cdi_strat_tidy.dropna(subset=['StratificationValue'])\n"
      ]
    },
    {
      "cell_type": "code",
      "execution_count": 48,
      "metadata": {
        "id": "q6I_Sr7lxXi5",
        "colab": {
          "base_uri": "https://localhost:8080/"
        },
        "outputId": "8f837711-e265-45b1-bdcb-a408804825e2"
      },
      "outputs": [
        {
          "output_type": "stream",
          "name": "stdout",
          "text": [
            "Empty DataFrame\n",
            "Columns: [StratificationLevel, StratificationValue]\n",
            "Index: []\n",
            "[]\n"
          ]
        }
      ],
      "source": [
        "# --- Validation ---\n",
        "print(cdi_strat_tidy[['StratificationLevel','StratificationValue']].head(10))\n",
        "print(cdi_strat_tidy['StratificationLevel'].unique())"
      ]
    },
    {
      "cell_type": "markdown",
      "metadata": {
        "id": "pAn8TudOUsRA"
      },
      "source": [
        "### Justification:\n",
        "\n",
        "Tidiness Issue 2 arises because multiple stratification levels were stored in separate, mostly empty columns. By melting these columns into StratificationLevel and StratificationValue, each stratification observation occupies a single row, aligning with tidy data principles and simplifying analysis."
      ]
    },
    {
      "cell_type": "markdown",
      "source": [
        "### **Tidiness Issue 3:**"
      ],
      "metadata": {
        "id": "yzkFaNDesOhx"
      }
    },
    {
      "cell_type": "code",
      "source": [
        "# --- Cleaning ---\n",
        "pm25_clean = pm25_df.drop_duplicates(subset=['State Name','City Name','Date Local','Parameter Name'])\n"
      ],
      "metadata": {
        "id": "6gZ71bSfsOrp"
      },
      "execution_count": 49,
      "outputs": []
    },
    {
      "cell_type": "code",
      "source": [
        "# --- Validation ---\n",
        "duplicate_count = pm25_clean.duplicated(subset=['State Name','City Name','Date Local','Parameter Name']).sum()\n",
        "print(\"Number of duplicate measurements after cleaning:\", duplicate_count)\n"
      ],
      "metadata": {
        "colab": {
          "base_uri": "https://localhost:8080/"
        },
        "id": "3GU_ktcEsOzC",
        "outputId": "b166cf0e-520b-4e48-e343-5c339440c995"
      },
      "execution_count": 50,
      "outputs": [
        {
          "output_type": "stream",
          "name": "stdout",
          "text": [
            "Number of duplicate measurements after cleaning: 0\n"
          ]
        }
      ]
    },
    {
      "cell_type": "markdown",
      "source": [
        "### Justification:\n",
        "\n",
        "Tidiness Issue 3 arises because multiple AQI measurements for the same location, date, and parameter were stored in separate rows. Dropping duplicates ensures each observation occupies a single row, conforming to tidy data principles and facilitating trend analysis."
      ],
      "metadata": {
        "id": "tNekwarpsO8I"
      }
    },
    {
      "cell_type": "markdown",
      "metadata": {
        "id": "gBV_thPPUsRB"
      },
      "source": [
        "### **Remove unnecessary variables and combine datasets**\n",
        "\n",
        "Depending on the datasets, you can also peform the combination before the cleaning steps."
      ]
    },
    {
      "cell_type": "code",
      "execution_count": 51,
      "metadata": {
        "id": "nvyjyYjmUsRB"
      },
      "outputs": [],
      "source": [
        "# --- Remove unnecessary columns in CDI dataset ---\n",
        "cdi_final = cdi_tidy.drop(columns=[\n",
        "    'State Code', 'County Code', 'Site Num', 'Method Code', 'Method Name',\n",
        "    'Address', 'CBSA Name', 'Date of Last Change'\n",
        "], errors='ignore')  # errors='ignore' in case some columns are missing\n",
        "\n",
        "# --- Remove unnecessary columns in PM2.5 dataset ---\n",
        "pm25_final = pm25_clean.drop(columns=[\n",
        "    'State Code', 'County Code', 'Site Num', 'Parameter Code', 'POC',\n",
        "    'Datum', 'Pollutant Standard', 'Method Code', 'Method Name', 'Local Site Name',\n",
        "    'Address', 'CBSA Name', 'Date of Last Change', 'Year'\n",
        "], errors='ignore')\n"
      ]
    },
    {
      "cell_type": "code",
      "source": [
        "# Check column names in each dataset\n",
        "print(\"CDI columns:\", cdi_final.columns)\n",
        "print(\"PM2.5 columns:\", pm25_final.columns)\n"
      ],
      "metadata": {
        "colab": {
          "base_uri": "https://localhost:8080/"
        },
        "id": "Kpv4T9BwtqVI",
        "outputId": "00127035-359b-4b49-fac1-11e30065c37d"
      },
      "execution_count": 53,
      "outputs": [
        {
          "output_type": "stream",
          "name": "stdout",
          "text": [
            "CDI columns: Index(['YearStart', 'YearEnd', 'LocationAbbr', 'LocationDesc', 'DataSource',\n",
            "       'Topic', 'Question', 'Response', 'DataValueUnit',\n",
            "       'DataValueFootnoteSymbol', 'DatavalueFootnote', 'LowConfidenceLimit',\n",
            "       'HighConfidenceLimit', 'StratificationCategory1', 'Stratification1',\n",
            "       'StratificationCategory2', 'Stratification2', 'StratificationCategory3',\n",
            "       'Stratification3', 'GeoLocation', 'ResponseID', 'LocationID', 'TopicID',\n",
            "       'QuestionID', 'DataValueTypeID', 'StratificationCategoryID1',\n",
            "       'StratificationID1', 'StratificationCategoryID2', 'StratificationID2',\n",
            "       'StratificationCategoryID3', 'StratificationID3', 'Value',\n",
            "       'MeasurementType'],\n",
            "      dtype='object')\n",
            "PM2.5 columns: Index(['Latitude', 'Longitude', 'Parameter Name', 'Sample Duration',\n",
            "       'Date Local', 'Units of Measure', 'Event Type', 'Observation Count',\n",
            "       'Observation Percent', 'Arithmetic Mean', '1st Max Value',\n",
            "       '1st Max Hour', 'AQI', 'State Name', 'County Name', 'City Name'],\n",
            "      dtype='object')\n"
          ]
        }
      ]
    },
    {
      "cell_type": "markdown",
      "source": [
        "\n",
        "## 3b. Clean data - Prepare for merging\n"
      ],
      "metadata": {
        "id": "vjP3Vbmf2s26"
      }
    },
    {
      "cell_type": "code",
      "source": [
        "# Step 3b: Prepare datasets for merging\n",
        "\n",
        "# --- 1. Rename columns to unify names ---\n",
        "# CDI dataset\n",
        "cdi_final = cdi_final.rename(columns={\n",
        "    'LocationDesc': 'City',\n",
        "    'LocationAbbr': 'State',\n",
        "    'YearStart': 'YearStart',\n",
        "    'YearEnd': 'YearEnd'\n",
        "})\n",
        "\n",
        "# PM2.5 dataset\n",
        "pm25_final = pm25_final.rename(columns={\n",
        "    'City Name': 'City',\n",
        "    'State Name': 'State',\n",
        "    'Date Local': 'Date'\n",
        "})\n"
      ],
      "metadata": {
        "id": "py873AI7u8G1"
      },
      "execution_count": 63,
      "outputs": []
    },
    {
      "cell_type": "code",
      "source": [
        "\n",
        "# --- 2. Convert City and State to string (in case there are numbers) ---\n",
        "cdi_final['City'] = cdi_final['City'].astype(str)\n",
        "cdi_final['State'] = cdi_final['State'].astype(str)\n",
        "\n",
        "pm25_final['City'] = pm25_final['City'].astype(str)\n",
        "pm25_final['State'] = pm25_final['State'].astype(str)\n"
      ],
      "metadata": {
        "id": "hA3LivBR3bSx"
      },
      "execution_count": 69,
      "outputs": []
    },
    {
      "cell_type": "code",
      "source": [
        "# --- 3. Extract Year from Date in PM2.5 ---\n",
        "pm25_final['Year'] = pd.to_datetime(pm25_final['Date']).dt.year\n"
      ],
      "metadata": {
        "id": "bUaHYVap3bdk"
      },
      "execution_count": 65,
      "outputs": []
    },
    {
      "cell_type": "code",
      "source": [
        "import pandas as pd\n",
        "import re\n",
        "\n",
        "# --- Step 1: Make explicit copies to avoid SettingWithCopyWarning ---\n",
        "cdi_merge = cdi_final.loc[:, ['State', 'City', 'YearStart', 'YearEnd', 'Value', 'MeasurementType']].copy()\n",
        "pm25_merge = pm25_final.loc[:, ['State', 'City', 'Year', 'AQI', 'Parameter Name']].copy()\n",
        "\n",
        "# --- Step 2: Standardize text formatting ---\n",
        "cdi_merge['City'] = cdi_merge['City'].str.strip().str.upper()\n",
        "cdi_merge['State'] = cdi_merge['State'].str.strip().str.upper()\n",
        "\n",
        "pm25_merge['City'] = pm25_merge['City'].str.strip().str.upper()\n",
        "pm25_merge['State'] = pm25_merge['State'].str.strip().str.upper()"
      ],
      "metadata": {
        "id": "99tMYZQ43blY"
      },
      "execution_count": 80,
      "outputs": []
    },
    {
      "cell_type": "code",
      "source": [
        "# --- Step 3: Clean city names (remove 'CITY', 'TOWN', etc.) ---\n",
        "def clean_city(name):\n",
        "    name = re.sub(r'\\s+CITY$', '', name)\n",
        "    name = re.sub(r'\\s+TOWN$', '', name)\n",
        "    name = name.strip().upper()\n",
        "    return name\n",
        "\n",
        "cdi_merge['City'] = cdi_merge['City'].apply(clean_city)\n",
        "pm25_merge['City'] = pm25_merge['City'].apply(clean_city)\n"
      ],
      "metadata": {
        "id": "XE21MXuf3bvM"
      },
      "execution_count": 87,
      "outputs": []
    },
    {
      "cell_type": "code",
      "source": [
        "# --- Step 4: Standardize state names ---\n",
        "state_map = {\n",
        "    'ALABAMA': 'AL', 'ALASKA': 'AK', 'ARIZONA': 'AZ', 'ARKANSAS': 'AR',\n",
        "    'CALIFORNIA': 'CA', 'COLORADO': 'CO', 'CONNECTICUT': 'CT', 'DELAWARE': 'DE',\n",
        "    'DISTRICT OF COLUMBIA': 'DC', 'FLORIDA': 'FL', 'GEORGIA': 'GA', 'HAWAII': 'HI',\n",
        "    'IDAHO': 'ID', 'ILLINOIS': 'IL', 'INDIANA': 'IN', 'IOWA': 'IA',\n",
        "    'KANSAS': 'KS', 'KENTUCKY': 'KY', 'LOUISIANA': 'LA', 'MAINE': 'ME',\n",
        "    'MARYLAND': 'MD', 'MASSACHUSETTS': 'MA', 'MICHIGAN': 'MI', 'MINNESOTA': 'MN',\n",
        "    'MISSISSIPPI': 'MS', 'MISSOURI': 'MO', 'MONTANA': 'MT', 'NEBRASKA': 'NE',\n",
        "    'NEVADA': 'NV', 'NEW HAMPSHIRE': 'NH', 'NEW JERSEY': 'NJ', 'NEW MEXICO': 'NM',\n",
        "    'NEW YORK': 'NY', 'NORTH CAROLINA': 'NC', 'NORTH DAKOTA': 'ND', 'OHIO': 'OH',\n",
        "    'OKLAHOMA': 'OK', 'OREGON': 'OR', 'PENNSYLVANIA': 'PA', 'RHODE ISLAND': 'RI',\n",
        "    'SOUTH CAROLINA': 'SC', 'SOUTH DAKOTA': 'SD', 'TENNESSEE': 'TN', 'TEXAS': 'TX',\n",
        "    'UTAH': 'UT', 'VERMONT': 'VT', 'VIRGINIA': 'VA', 'WASHINGTON': 'WA',\n",
        "    'WEST VIRGINIA': 'WV', 'WISCONSIN': 'WI', 'WYOMING': 'WY',\n",
        "    'AMERICAN SAMOA': 'AS', 'GUAM': 'GU'\n",
        "}\n",
        "\n",
        "cdi_merge['State'] = cdi_merge['State'].map(state_map).fillna(cdi_merge['State'])\n",
        "pm25_merge['State'] = pm25_merge['State'].map(state_map).fillna(pm25_merge['State'])\n",
        "\n",
        "# --- Step 5: Standardize city names (optional if merging by State only) ---\n",
        "cdi_merge['City'] = cdi_merge['City'].str.strip().str.upper()\n",
        "pm25_merge['City'] = pm25_merge['City'].str.strip().str.upper()\n",
        "\n",
        "# --- Step 6: Ensure Year column matches ---\n",
        "cdi_merge['Year'] = cdi_merge['YearStart'].astype(int)\n",
        "pm25_merge['Year'] = pm25_merge['Year'].astype(int)\n",
        "\n",
        "# --- Step 7: Aggregate PM2.5 to yearly per State ---\n",
        "pm25_state = pm25_merge.groupby(['State','Year']).agg({'AQI':'mean'}).reset_index()\n",
        "\n",
        "# --- Step 8: Merge datasets on State + Year ---\n",
        "combined_df = pd.merge(\n",
        "    cdi_merge,\n",
        "    pm25_state,\n",
        "    on=['State','Year'],\n",
        "    how='inner'\n",
        ")\n",
        "\n",
        "# --- Step 9: Check the combined dataset ---\n",
        "print(\"Shape of combined dataset:\", combined_df.shape)\n",
        "print(combined_df.head())\n",
        "\n",
        "# --- Step 10: Count missing AQI values ---\n",
        "missing_aqi = combined_df['AQI'].isnull().sum()\n",
        "print(f\"Missing AQI values: {missing_aqi}\")\n"
      ],
      "metadata": {
        "colab": {
          "base_uri": "https://localhost:8080/"
        },
        "id": "pVWch5giAS68",
        "outputId": "1c7d4a18-81b3-4621-f2c9-36371b9cca69"
      },
      "execution_count": 99,
      "outputs": [
        {
          "output_type": "stream",
          "name": "stdout",
          "text": [
            "Shape of combined dataset: (9015, 8)\n",
            "  State         City  YearStart  YearEnd Value MeasurementType  Year  \\\n",
            "0    IL     ILLINOIS       2020     2020    89          Number  2020   \n",
            "1    MS  MISSISSIPPI       2019     2019    58          Number  2019   \n",
            "2    NM   NEW MEXICO       2020     2020    26          Number  2020   \n",
            "3    UT         UTAH       2019     2019  1324          Number  2019   \n",
            "4    LA    LOUISIANA       2020     2020    55          Number  2020   \n",
            "\n",
            "         AQI  \n",
            "0  43.327930  \n",
            "1  42.876543  \n",
            "2  42.276423  \n",
            "3  29.713373  \n",
            "4  40.304217  \n",
            "Missing AQI values: 95\n"
          ]
        }
      ]
    },
    {
      "cell_type": "code",
      "source": [
        "# --- Step 11: Fill missing AQI values using median ---\n",
        "# Using median across the entire dataset\n",
        "aqi_median = combined_df['AQI'].median()  # Calculate median of AQI\n",
        "combined_df['AQI'] = combined_df['AQI'].fillna(aqi_median)  # Fill missing values\n",
        "\n",
        "# --- Fill median by Year ---\n",
        "combined_df['AQI'] = combined_df.groupby('Year')['AQI'].transform(lambda x: x.fillna(x.median()))\n",
        "\n",
        "combined_df['State'] = combined_df['State'].astype(str)\n",
        "\n",
        "combined_df['Value'] = pd.to_numeric(combined_df['Value'], errors='coerce')\n",
        "combined_df = combined_df.dropna(subset=['Value', 'AQI'])\n",
        "\n",
        "# --- Step 12: Check the result ---\n",
        "missing_aqi_after = combined_df['AQI'].isnull().sum()\n",
        "print(f\"Missing AQI values after filling: {missing_aqi_after}\")\n",
        "print(combined_df.head())\n"
      ],
      "metadata": {
        "colab": {
          "base_uri": "https://localhost:8080/"
        },
        "id": "rS8d8CETF0xk",
        "outputId": "788b8fb4-54c8-4250-a362-9f419951b347"
      },
      "execution_count": 112,
      "outputs": [
        {
          "output_type": "stream",
          "name": "stdout",
          "text": [
            "Missing AQI values after filling: 0\n",
            "  State         City  YearStart  YearEnd   Value MeasurementType  Year  \\\n",
            "0    IL     ILLINOIS       2020     2020    89.0          Number  2020   \n",
            "1    MS  MISSISSIPPI       2019     2019    58.0          Number  2019   \n",
            "2    NM   NEW MEXICO       2020     2020    26.0          Number  2020   \n",
            "3    UT         UTAH       2019     2019  1324.0          Number  2019   \n",
            "4    LA    LOUISIANA       2020     2020    55.0          Number  2020   \n",
            "\n",
            "         AQI  \n",
            "0  43.327930  \n",
            "1  42.876543  \n",
            "2  42.276423  \n",
            "3  29.713373  \n",
            "4  40.304217  \n"
          ]
        }
      ]
    },
    {
      "cell_type": "markdown",
      "metadata": {
        "id": "F42urHuzttjF"
      },
      "source": [
        "## 4. Update your data store\n",
        "Update your local database/data store with the cleaned data, following best practices for storing your cleaned data:\n",
        "\n",
        "- Must maintain different instances / versions of data (raw and cleaned data)\n",
        "- Must name the dataset files informatively\n",
        "- Ensure both the raw and cleaned data is saved to your database/data store"
      ]
    },
    {
      "cell_type": "code",
      "execution_count": 113,
      "metadata": {
        "id": "V3uay7EJUV_L",
        "colab": {
          "base_uri": "https://localhost:8080/"
        },
        "outputId": "51fc7698-9c7d-459e-d553-3dd5a9490dbc"
      },
      "outputs": [
        {
          "output_type": "stream",
          "name": "stdout",
          "text": [
            "✅ Cleaned dataset saved to: data_store/cleaned/combined_cdi_pm25_cleaned.csv\n"
          ]
        }
      ],
      "source": [
        "import os\n",
        "\n",
        "cleaned_dir = os.path.join(\"data_store\", \"cleaned\")\n",
        "os.makedirs(cleaned_dir, exist_ok=True)\n",
        "\n",
        "# Save cleaned merged dataset\n",
        "cleaned_file_path = os.path.join(cleaned_dir, \"combined_cdi_pm25_cleaned.csv\")\n",
        "combined_df.to_csv(cleaned_file_path, index=False)\n",
        "print(f\"✅ Cleaned dataset saved to: {cleaned_file_path}\")\n"
      ]
    },
    {
      "cell_type": "markdown",
      "metadata": {
        "id": "cGy_yddGtzhM"
      },
      "source": [
        "## 5. Answer the research question\n",
        "\n",
        "### **5.1:** Define and answer the research question\n",
        "Going back to the problem statement in step 1, use the cleaned data to answer the question you raised. Produce **at least** two visualizations using the cleaned data and explain how they help you answer the question."
      ]
    },
    {
      "cell_type": "markdown",
      "metadata": {
        "id": "gjedE4s4ZkEd"
      },
      "source": [
        "*Research question:*\n",
        "\n",
        "\"Is there a relationship between PM2.5 air pollution levels and the prevalence of chronic diseases (CDI) across U.S. states between 2019 and 2024?\""
      ]
    },
    {
      "cell_type": "code",
      "execution_count": 120,
      "metadata": {
        "id": "Lkw3rW9kZmOm",
        "colab": {
          "base_uri": "https://localhost:8080/",
          "height": 707
        },
        "outputId": "550d3af8-72db-4b28-a68c-1531970d87b4"
      },
      "outputs": [
        {
          "output_type": "display_data",
          "data": {
            "text/plain": [
              "<Figure size 1200x700 with 1 Axes>"
            ],
            "image/png": "[encoded data removed]"
          },
          "metadata": {}
        }
      ],
      "source": [
        "#Visual 1\n",
        "import matplotlib.pyplot as plt\n",
        "import seaborn as sns\n",
        "import pandas as pd\n",
        "\n",
        "# Ensure correct data types\n",
        "combined_df['State'] = combined_df['State'].astype(str)\n",
        "combined_df['Value'] = pd.to_numeric(combined_df['Value'], errors='coerce')\n",
        "combined_df['AQI'] = pd.to_numeric(combined_df['AQI'], errors='coerce')\n",
        "\n",
        "# Drop missing values\n",
        "combined_df = combined_df.dropna(subset=['Value', 'AQI'])\n",
        "\n",
        "# Dynamically define AQI bins\n",
        "aqi_max = combined_df['AQI'].max()\n",
        "bins = [0, 50, 100, 150, 200]\n",
        "if aqi_max > 200:\n",
        "    bins.append(aqi_max)\n",
        "\n",
        "# Create AQI level categories\n",
        "combined_df['AQI_Level'] = pd.cut(\n",
        "    combined_df['AQI'],\n",
        "    bins=bins,\n",
        "    labels=['Good', 'Moderate', 'Unhealthy for Sensitive', 'Unhealthy', 'Very Unhealthy'][:len(bins)-1]\n",
        ")\n",
        "\n",
        "# Plot scatter + regression line\n",
        "plt.figure(figsize=(12,7))\n",
        "sns.scatterplot(\n",
        "    data=combined_df,\n",
        "    x='AQI',\n",
        "    y='Value',\n",
        "    hue='AQI_Level',\n",
        "    palette='coolwarm',\n",
        "    alpha=0.5\n",
        ")\n",
        "\n",
        "# Add regression line\n",
        "sns.regplot(\n",
        "    data=combined_df,\n",
        "    x='AQI',\n",
        "    y='Value',\n",
        "    scatter=False,\n",
        "    color='black',\n",
        "    line_kws={'linewidth':2, 'alpha':0.8}\n",
        ")\n",
        "\n",
        "plt.title('Relationship between PM2.5 (AQI) and Chronic Disease Indicators (CDI)')\n",
        "plt.xlabel('PM2.5 Air Quality Index (AQI)')\n",
        "plt.ylabel('Chronic Disease Indicator (CDI) Value')\n",
        "plt.legend(title='AQI Level', bbox_to_anchor=(1.05, 1), loc='upper left')\n",
        "plt.tight_layout()\n",
        "plt.show()\n"
      ]
    },
    {
      "cell_type": "markdown",
      "metadata": {
        "id": "lRv7xbEVUsRB"
      },
      "source": [
        "*Answer to research question:*\n",
        "\n",
        "The regression line shows a positive correlation between PM2.5 (AQI) and CDI values from 2019–2024. As air pollution levels increase, chronic disease rates also rise, indicating that poorer air quality is associated with higher health risks."
      ]
    },
    {
      "cell_type": "code",
      "execution_count": 125,
      "metadata": {
        "id": "6fdK_8ZGZm9R"
      },
      "outputs": [],
      "source": [
        "#Visual 2\n",
        "# Mapping of U.S. state abbreviations to full names\n",
        "state_name_map = {\n",
        "    'AL': 'Alabama', 'AK': 'Alaska', 'AZ': 'Arizona', 'AR': 'Arkansas', 'CA': 'California',\n",
        "    'CO': 'Colorado', 'CT': 'Connecticut', 'DE': 'Delaware', 'FL': 'Florida', 'GA': 'Georgia',\n",
        "    'HI': 'Hawaii', 'ID': 'Idaho', 'IL': 'Illinois', 'IN': 'Indiana', 'IA': 'Iowa',\n",
        "    'KS': 'Kansas', 'KY': 'Kentucky', 'LA': 'Louisiana', 'ME': 'Maine', 'MD': 'Maryland',\n",
        "    'MA': 'Massachusetts', 'MI': 'Michigan', 'MN': 'Minnesota', 'MS': 'Mississippi', 'MO': 'Missouri',\n",
        "    'MT': 'Montana', 'NE': 'Nebraska', 'NV': 'Nevada', 'NH': 'New Hampshire', 'NJ': 'New Jersey',\n",
        "    'NM': 'New Mexico', 'NY': 'New York', 'NC': 'North Carolina', 'ND': 'North Dakota',\n",
        "    'OH': 'Ohio', 'OK': 'Oklahoma', 'OR': 'Oregon', 'PA': 'Pennsylvania', 'RI': 'Rhode Island',\n",
        "    'SC': 'South Carolina', 'SD': 'South Dakota', 'TN': 'Tennessee', 'TX': 'Texas', 'UT': 'Utah',\n",
        "    'VT': 'Vermont', 'VA': 'Virginia', 'WA': 'Washington', 'WV': 'West Virginia',\n",
        "    'WI': 'Wisconsin', 'WY': 'Wyoming'\n",
        "}\n",
        "\n",
        "# Apply mapping to your DataFrame\n",
        "combined_df['State_Full'] = combined_df['State'].map(state_name_map)\n"
      ]
    },
    {
      "cell_type": "code",
      "source": [
        "import matplotlib.pyplot as plt\n",
        "import numpy as np\n",
        "import seaborn as sns\n",
        "from sklearn.preprocessing import MinMaxScaler\n",
        "\n",
        "# Prepare the data\n",
        "state_summary = combined_df.groupby('State_Full')[['AQI', 'Value']].mean().sort_values(by='AQI', ascending=False).head(10)\n",
        "\n",
        "# Apply Min-Max normalization to scale both AQI and CDI between 0 and 1\n",
        "scaler = MinMaxScaler()\n",
        "state_summary_scaled = state_summary.copy()\n",
        "state_summary_scaled[['AQI', 'Value']] = scaler.fit_transform(state_summary[['AQI', 'Value']])\n",
        "\n",
        "# Create positions for side-by-side bars\n",
        "x = np.arange(len(state_summary_scaled))\n",
        "width = 0.35  # width of each bar\n",
        "\n",
        "plt.figure(figsize=(12,6))\n",
        "\n",
        "# Plot AQI bars\n",
        "plt.bar(x - width/2, state_summary_scaled['AQI'], width, color='red', alpha=0.7, label='Normalized AQI')\n",
        "\n",
        "# Plot CDI bars\n",
        "plt.bar(x + width/2, state_summary_scaled['Value'], width, color='blue', alpha=0.7, label='Normalized CDI Value')\n",
        "\n",
        "# Add labels and styling\n",
        "plt.title('Comparison of Normalized AQI and CDI Values (Top 10 Polluted States, 2019–2024)')\n",
        "plt.xlabel('State')\n",
        "plt.ylabel('Normalized Value (0-1)')\n",
        "plt.xticks(x, state_summary_scaled.index, rotation=45)\n",
        "plt.legend()\n",
        "plt.tight_layout()\n",
        "plt.show()\n"
      ],
      "metadata": {
        "colab": {
          "base_uri": "https://localhost:8080/",
          "height": 607
        },
        "id": "Bw4rKf7SSPNB",
        "outputId": "2d2b8a98-40ab-4537-aa97-3c64eccfe986"
      },
      "execution_count": 127,
      "outputs": [
        {
          "output_type": "display_data",
          "data": {
            "text/plain": [
              "<Figure size 1200x600 with 1 Axes>"
            ],
            "image/png": "[encoded data removed]"
          },
          "metadata": {}
        }
      ]
    },
    {
      "cell_type": "markdown",
      "metadata": {
        "id": "K5RgvMGUZoHn"
      },
      "source": [
        "*Answer to research question:*\n",
        "\n",
        "This chart compares the average PM2.5 (AQI) and average Chronic Disease Index (CDI) values for the 10 most polluted U.S. states during 2019–2024.\n",
        "We can observe that states with higher air pollution levels — such as California and Pennsylvania — generally show higher CDI values, indicating a positive correlation between poor air quality and chronic disease prevalence.\n",
        "\n",
        "However, Texas is an exception, showing relatively low AQI but high CDI values, suggesting that factors other than air pollution, such as socioeconomic conditions or healthcare access, may also contribute to chronic disease rates.\n",
        "Overall, the visualization reinforces the earlier finding of a positive relationship between PM2.5 levels and chronic disease prevalence, while highlighting the importance of considering additional contributing factors."
      ]
    },
    {
      "cell_type": "markdown",
      "metadata": {
        "id": "0ezWXXZVj-TP"
      },
      "source": [
        "### **5.2:** Reflection\n",
        "In 2-4 sentences, if you had more time to complete the project, what actions would you take? For example, which data quality and structural issues would you look into further, and what research questions would you further explore?"
      ]
    },
    {
      "cell_type": "markdown",
      "metadata": {
        "id": "XB3RBDG5kFe1"
      },
      "source": [
        "*Answer:*\n",
        "\n",
        "If I had more time to complete the project, I would investigate the data quality and consistency further, especially addressing outliers like Texas and ensuring uniform coverage across all states and years. I would also consider increasing the range of years for which I collect data to observe longer-term trends. Additionally, I would explore other environmental factors beyond PM2.5, such as ozone or NO₂ levels, and examine socioeconomic and healthcare access variables to better understand confounding factors and refine the research question on drivers of chronic disease prevalence."
      ]
    },
    {
      "cell_type": "code",
      "source": [],
      "metadata": {
        "id": "wIZ6dcBEVBFL"
      },
      "execution_count": 127,
      "outputs": []
    }
  ],
  "metadata": {
    "colab": {
      "provenance": []
    },
    "kernelspec": {
      "display_name": "Python 3 (ipykernel)",
      "language": "python",
      "name": "python3"
    },
    "language_info": {
      "codemirror_mode": {
        "name": "ipython",
        "version": 3
      },
      "file_extension": ".py",
      "mimetype": "text/x-python",
      "name": "python",
      "nbconvert_exporter": "python",
      "pygments_lexer": "ipython3",
      "version": "3.10.11"
    }
  },
  "nbformat": 4,
  "nbformat_minor": 0
}